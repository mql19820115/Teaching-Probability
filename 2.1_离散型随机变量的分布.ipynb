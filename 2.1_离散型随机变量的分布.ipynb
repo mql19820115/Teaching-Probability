{
 "cells": [
  {
   "cell_type": "code",
   "execution_count": 1,
   "metadata": {},
   "outputs": [],
   "source": [
    "##########################\n",
    "# 配置运行环境\n",
    "##########################\n",
    "\n",
    "%matplotlib inline\n",
    "\n",
    "import numpy as np\n",
    "import pandas as pd\n",
    "from matplotlib import pyplot\n",
    "\n",
    "# matplotlib 对中文的支持及保存为 pdf 格式\n",
    "from matplotlib import font_manager\n",
    "cn_font = font_manager.FontProperties(fname='msyh.ttf', size=16)  # 网上支持中文\n",
    "\n",
    "from matplotlib import rcParams\n",
    "# rcParams['font.family'] = 'Microsoft YaHei'  # 本地支持中文\n",
    "rcParams['pdf.fonttype'] = 42\n",
    "rcParams['figure.figsize'] = (8, 5)\n",
    "\n",
    "# Look pretty...\n",
    "from matplotlib import style\n",
    "style.use('ggplot')\n",
    "\n",
    "# 设置 numpy 的输出精度, 并且阻止使用科学记数法\n",
    "np.set_printoptions(precision=6, suppress=True)"
   ]
  },
  {
   "cell_type": "code",
   "execution_count": null,
   "metadata": {},
   "outputs": [],
   "source": []
  },
  {
   "cell_type": "markdown",
   "metadata": {},
   "source": [
    "## 随机变量的定义\n",
    "\n",
    "我们说过随机变量是定义在样本空间上的函数，下面我们看看如果样本空间已知，随机变量的定义也明确了，如果计算随机变量的分布\n",
    "\n",
    "例如，样本空间为\n",
    "\n",
    "| 取值 | Cat | Dog | Shark |\n",
    "|-----|-----|-----|-----|\n",
    "| 概率 | $0.2$ | $0.7$ | $0.1$ |\n",
    "\n",
    "随机变量 $X$ 定义为\n",
    "\n",
    "| 样本点 | Cat | Dog | Shark |\n",
    "|-----|-----|-----|-----|\n",
    "| 函数值 | 5 | 5 | 7 |\n",
    "\n",
    "求随机变量 $X$ 的概率分布。\n",
    "\n",
    "在 Python 中我们用字典存储一个离散分布. 例如\n",
    "```\n",
    "{'cat': 0.2, 'dog':0.7, 'shark':0.1}\n",
    "```\n",
    "其中 key 是变量的取值，value 是取值的概率."
   ]
  },
  {
   "cell_type": "code",
   "execution_count": 2,
   "metadata": {},
   "outputs": [],
   "source": [
    "def getPMF(X: dict, space: dict) -> dict:\n",
    "    '''\n",
    "    已知样本空间以及随机变量的定义，求随机变量的分布函数\n",
    "    \n",
    "    X: 随机变量的映射规则，是一个字典对象，key 是样本点，value 是数\n",
    "    space: 样本空间，是一个字典对象，key 是样本点，value 是概率\n",
    "    '''\n",
    "    pmf = dict()\n",
    "    domain = set(X.values())   # 随机变量所有可能的取值\n",
    "    for x in domain:\n",
    "        # 找出样本空间中所有对应于随机变量取值的样本点，将它们的概率相加\n",
    "        pmf[x] = sum([space[e] for e in space.keys() if X[e] == x])\n",
    "    return pmf"
   ]
  },
  {
   "cell_type": "code",
   "execution_count": 3,
   "metadata": {},
   "outputs": [
    {
     "name": "stdout",
     "output_type": "stream",
     "text": [
      "{5: 0.8999999999999999, 7: 0.1}\n"
     ]
    }
   ],
   "source": [
    "sample_space = {'cat': 0.2, 'dog':0.7, 'shark':0.1}\n",
    "\n",
    "# 定义随机变量 X\n",
    "X_mapping = {'cat': 5, 'dog': 5, 'shark': 7}\n",
    "\n",
    "print(getPMF(X_mapping, sample_space))"
   ]
  },
  {
   "cell_type": "markdown",
   "metadata": {},
   "source": [
    "## 服从给定分布的随机数\n",
    "\n",
    "我们用如下的程序生成服从离散分布的随机数"
   ]
  },
  {
   "cell_type": "code",
   "execution_count": 4,
   "metadata": {},
   "outputs": [],
   "source": [
    "def samplePMF(pmf: dict, size: int) -> list:\n",
    "    \"\"\"\n",
    "    生成服从离散分布 pmf 的随机数\n",
    "    pmf: 表示离散分布的字典，key 为取值，value 为概率.\n",
    "    size: 要生存的随机数的个数\n",
    "    \"\"\"\n",
    "    values, probs = zip(*pmf.items())\n",
    "    return np.random.choice(values, p=probs, size=size).tolist()"
   ]
  },
  {
   "cell_type": "code",
   "execution_count": 5,
   "metadata": {},
   "outputs": [
    {
     "name": "stdout",
     "output_type": "stream",
     "text": [
      "['T', 'H', 'H', 'T', 'T', 'H', 'H', 'T', 'T', 'H', 'H', 'H', 'H', 'T', 'T', 'H', 'T', 'T', 'H', 'T']\n"
     ]
    }
   ],
   "source": [
    "print(samplePMF({'H':0.5,'T':0.5}, 20))"
   ]
  },
  {
   "cell_type": "code",
   "execution_count": null,
   "metadata": {},
   "outputs": [],
   "source": []
  },
  {
   "cell_type": "markdown",
   "metadata": {},
   "source": [
    "## n 个骰子点数和的分布"
   ]
  },
  {
   "cell_type": "code",
   "execution_count": 6,
   "metadata": {
    "scrolled": true
   },
   "outputs": [
    {
     "name": "stdout",
     "output_type": "stream",
     "text": [
      "{3: 0.004629629629629629, 4: 0.013888888888888888, 5: 0.027777777777777776, 6: 0.046296296296296294, 7: 0.06944444444444445, 8: 0.09722222222222222, 9: 0.11574074074074074, 10: 0.125, 11: 0.125, 12: 0.11574074074074074, 13: 0.09722222222222222, 14: 0.06944444444444445, 15: 0.046296296296296294, 16: 0.027777777777777776, 17: 0.013888888888888888, 18: 0.004629629629629629}\n"
     ]
    }
   ],
   "source": [
    "from itertools import product\n",
    "from collections import Counter\n",
    "\n",
    "dice_sum = [sum(dice) for dice in product(range(1, 7), range(1, 7), range(1, 7))]\n",
    "\n",
    "dice_sum_dict = Counter(dice_sum)\n",
    "\n",
    "dice_sum_probs = {key: dice_sum_dict[key]/(6**3) for key in range(3, 19)}\n",
    "\n",
    "print(dice_sum_probs)"
   ]
  },
  {
   "cell_type": "markdown",
   "metadata": {},
   "source": [
    "## 几何分布模拟"
   ]
  },
  {
   "cell_type": "code",
   "execution_count": 7,
   "metadata": {},
   "outputs": [],
   "source": [
    "import random\n",
    "\n",
    "def rollDie() -> str:\n",
    "    \"\"\"\n",
    "    返回 1 到 6 之间的一个字符\n",
    "    \"\"\"\n",
    "    return random.choice(['1', '2', '3', '4', '5', '6'])\n",
    "\n",
    "\n",
    "def getTarget(goal: str) -> int:\n",
    "    \"\"\"\n",
    "    返回首次掷出指定点数所需的次数\n",
    "    \n",
    "    goal: 指定的点数\n",
    "    \"\"\"\n",
    "    num_tries = 0\n",
    "\n",
    "    while True:\n",
    "        result = rollDie()\n",
    "        num_tries += 1\n",
    "        if result == goal:\n",
    "            return num_tries\n",
    "\n",
    "\n",
    "def runSim(goal: str, num_trials: int) -> float:\n",
    "    \"\"\"\n",
    "    返回首次掷出指定点数所需的平均次数\n",
    "    \n",
    "    goal: 指定的点数\n",
    "    num_trials: 试验重复的次数，相当于这么多个人各自独立的做相同的试验。\n",
    "    \"\"\"\n",
    "    total = 0\n",
    "\n",
    "    for i in range(num_trials):\n",
    "        total += getTarget(goal)\n",
    "    print( '平均投掷次数为 ', total/num_trials)"
   ]
  },
  {
   "cell_type": "code",
   "execution_count": 8,
   "metadata": {},
   "outputs": [
    {
     "name": "stdout",
     "output_type": "stream",
     "text": [
      "平均投掷次数为  6.0116\n"
     ]
    }
   ],
   "source": [
    "runSim( '5', 10000 )"
   ]
  },
  {
   "cell_type": "code",
   "execution_count": null,
   "metadata": {},
   "outputs": [],
   "source": []
  }
 ],
 "metadata": {
  "kernelspec": {
   "display_name": "Python 3",
   "language": "python",
   "name": "python3"
  },
  "language_info": {
   "codemirror_mode": {
    "name": "ipython",
    "version": 3
   },
   "file_extension": ".py",
   "mimetype": "text/x-python",
   "name": "python",
   "nbconvert_exporter": "python",
   "pygments_lexer": "ipython3",
   "version": "3.7.2"
  }
 },
 "nbformat": 4,
 "nbformat_minor": 1
}
