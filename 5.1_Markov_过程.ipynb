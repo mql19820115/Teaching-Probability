{
 "cells": [
  {
   "cell_type": "markdown",
   "metadata": {},
   "source": [
    "Markov 链的矩阵表示\n",
    "\n",
    "$P_{ij}^{(n)}$ 表示从状态 $i$ 出发第 $n$ 步到达状态 $j$ 的概率。易见，矩阵 $P^n$ 的第 $i$ 行的各个元素表示从状态 $i$ 出发第 $n$ 步时到达列号对应的状态的概率。"
   ]
  },
  {
   "cell_type": "markdown",
   "metadata": {},
   "source": [
    "Markov 链的有向图表示\n",
    "\n",
    "每个状态用一个节点表示，生成一个有向完全图，且每个节点带圈。\n",
    "\n",
    "用边的透明度表示状态的转移概率。"
   ]
  },
  {
   "cell_type": "code",
   "execution_count": null,
   "metadata": {
    "collapsed": true
   },
   "outputs": [],
   "source": [
    "# 生成一个完全有向图\n",
    "\n",
    "# 将状态 i 到状态 j 的转移概率设置为边 i -> j 的灰度"
   ]
  },
  {
   "cell_type": "code",
   "execution_count": null,
   "metadata": {
    "collapsed": true
   },
   "outputs": [],
   "source": []
  },
  {
   "cell_type": "markdown",
   "metadata": {},
   "source": [
    "# 习题\n",
    "\n"
   ]
  },
  {
   "cell_type": "markdown",
   "metadata": {},
   "source": [
    "习题 3.1.1"
   ]
  },
  {
   "cell_type": "code",
   "execution_count": 10,
   "metadata": {
    "collapsed": true
   },
   "outputs": [],
   "source": [
    "import numpy as np\n",
    "\n",
    "# 初始分布\n",
    "initial_distribution = [0.3, 0.4, 0.3]\n",
    "\n",
    "# 转移概率矩阵\n",
    "TPM = np.matrix( [[0.1, 0.2, 0.7],\n",
    "                  [0.9, 0.1, 0.0],\n",
    "                  [0.1, 0.8, 0.1]] )\n",
    "\n",
    "# 一步转移概率\n",
    "def OneStepTransPr( i, j, TPM, n ):\n",
    "    return (TPM ** (n+1))[i, j]"
   ]
  },
  {
   "cell_type": "code",
   "execution_count": 11,
   "metadata": {
    "collapsed": false
   },
   "outputs": [
    {
     "data": {
      "text/plain": [
       "0.0378"
      ]
     },
     "execution_count": 11,
     "metadata": {},
     "output_type": "execute_result"
    }
   ],
   "source": [
    "initial_distribution[0] * OneStepTransPr( 0, 1, TPM, 0 ) * OneStepTransPr( 1, 2, TPM, 1 )"
   ]
  },
  {
   "cell_type": "code",
   "execution_count": 13,
   "metadata": {
    "collapsed": false,
    "scrolled": true
   },
   "outputs": [
    {
     "data": {
      "text/plain": [
       "0.0"
      ]
     },
     "execution_count": 13,
     "metadata": {},
     "output_type": "execute_result"
    }
   ],
   "source": [
    "OneStepTransPr( 1, 2, TPM, 0 )"
   ]
  },
  {
   "cell_type": "markdown",
   "metadata": {},
   "source": []
  },
  {
   "cell_type": "markdown",
   "metadata": {},
   "source": [
    "习题 3.1.2"
   ]
  },
  {
   "cell_type": "code",
   "execution_count": 10,
   "metadata": {
    "collapsed": true
   },
   "outputs": [],
   "source": [
    "import numpy as np\n",
    "\n",
    "# 转移概率矩阵\n",
    "TPM = np.matrix( [[0.7, 0.2, 0.1],\n",
    "                  [0.0, 0.6, 0.4],\n",
    "                  [0.5, 0.0, 0.5]] )\n",
    "\n",
    "# 一步转移概率\n",
    "def OneStepTransPr( i, j, TPM, n ):\n",
    "    return (TPM ** (n+1))[i, j]"
   ]
  },
  {
   "cell_type": "code",
   "execution_count": 11,
   "metadata": {
    "collapsed": false
   },
   "outputs": [
    {
     "data": {
      "text/plain": [
       "0.0378"
      ]
     },
     "execution_count": 11,
     "metadata": {},
     "output_type": "execute_result"
    }
   ],
   "source": [
    "initial_distribution[0] * OneStepTransPr( 0, 1, TPM, 0 ) * OneStepTransPr( 1, 2, TPM, 1 )"
   ]
  },
  {
   "cell_type": "code",
   "execution_count": 13,
   "metadata": {
    "collapsed": false,
    "scrolled": true
   },
   "outputs": [
    {
     "data": {
      "text/plain": [
       "0.0"
      ]
     },
     "execution_count": 13,
     "metadata": {},
     "output_type": "execute_result"
    }
   ],
   "source": [
    "OneStepTransPr( 1, 2, TPM, 0 )"
   ]
  },
  {
   "cell_type": "code",
   "execution_count": null,
   "metadata": {
    "collapsed": true
   },
   "outputs": [],
   "source": []
  },
  {
   "cell_type": "code",
   "execution_count": null,
   "metadata": {
    "collapsed": true
   },
   "outputs": [],
   "source": []
  },
  {
   "cell_type": "markdown",
   "metadata": {},
   "source": [
    "习题 3.1.3"
   ]
  },
  {
   "cell_type": "code",
   "execution_count": 20,
   "metadata": {
    "collapsed": true
   },
   "outputs": [],
   "source": [
    "import numpy as np\n",
    "\n",
    "# 状态序号集\n",
    "states = [0, 1, 2]\n",
    "\n",
    "# 转移概率矩阵, 其中 TPM[i, j] 表示从状态 i 转移到状态 j 的概率\n",
    "TPM = np.matrix( [[0.6, 0.3, 0.1],\n",
    "                  [0.3, 0.3, 0.4],\n",
    "                  [0.4, 0.1, 0.5]] )\n",
    "\n",
    "# 若状态的初始值为 X0 = 1，则令 X1 的状态分布为初始状态分布\n",
    "initial_distribution = TPM[1, :]"
   ]
  },
  {
   "cell_type": "code",
   "execution_count": 21,
   "metadata": {
    "collapsed": false
   },
   "outputs": [
    {
     "data": {
      "text/plain": [
       "matrix([[ 0.3,  0.3,  0.4]])"
      ]
     },
     "execution_count": 21,
     "metadata": {},
     "output_type": "execute_result"
    }
   ],
   "source": [
    "initial_distribution"
   ]
  },
  {
   "cell_type": "markdown",
   "metadata": {},
   "source": []
  },
  {
   "cell_type": "code",
   "execution_count": null,
   "metadata": {
    "collapsed": true
   },
   "outputs": [],
   "source": []
  },
  {
   "cell_type": "code",
   "execution_count": null,
   "metadata": {
    "collapsed": true
   },
   "outputs": [],
   "source": []
  },
  {
   "cell_type": "markdown",
   "metadata": {},
   "source": []
  },
  {
   "cell_type": "code",
   "execution_count": null,
   "metadata": {
    "collapsed": true
   },
   "outputs": [],
   "source": []
  },
  {
   "cell_type": "code",
   "execution_count": null,
   "metadata": {
    "collapsed": true
   },
   "outputs": [],
   "source": []
  },
  {
   "cell_type": "code",
   "execution_count": null,
   "metadata": {
    "collapsed": true
   },
   "outputs": [],
   "source": []
  },
  {
   "cell_type": "code",
   "execution_count": null,
   "metadata": {
    "collapsed": true
   },
   "outputs": [],
   "source": []
  },
  {
   "cell_type": "markdown",
   "metadata": {},
   "source": [
    "习题 3.2.1"
   ]
  },
  {
   "cell_type": "code",
   "execution_count": 14,
   "metadata": {
    "collapsed": true
   },
   "outputs": [],
   "source": [
    "import numpy as np\n",
    "\n",
    "# 状态集合\n",
    "states = [0, 1, 2]\n",
    "\n",
    "# 转移概率矩阵\n",
    "TPM = np.matrix( [[0.1, 0.2, 0.7],\n",
    "                  [0.2, 0.2, 0.6],\n",
    "                  [0.6, 0.1, 0.3]] )"
   ]
  },
  {
   "cell_type": "code",
   "execution_count": 15,
   "metadata": {
    "collapsed": false
   },
   "outputs": [
    {
     "data": {
      "text/plain": [
       "matrix([[ 0.47,  0.13,  0.4 ],\n",
       "        [ 0.42,  0.14,  0.44],\n",
       "        [ 0.26,  0.17,  0.57]])"
      ]
     },
     "execution_count": 15,
     "metadata": {},
     "output_type": "execute_result"
    }
   ],
   "source": [
    "# 两步转移矩阵\n",
    "TPM ** 2"
   ]
  },
  {
   "cell_type": "code",
   "execution_count": 13,
   "metadata": {
    "collapsed": false,
    "scrolled": true
   },
   "outputs": [
    {
     "data": {
      "text/plain": [
       "0.0"
      ]
     },
     "execution_count": 13,
     "metadata": {},
     "output_type": "execute_result"
    }
   ],
   "source": [
    "OneStepTransPr( 1, 2, TPM, 0 )"
   ]
  },
  {
   "cell_type": "code",
   "execution_count": 17,
   "metadata": {
    "collapsed": false
   },
   "outputs": [
    {
     "data": {
      "text/plain": [
       "matrix([[ 0.16]])"
      ]
     },
     "execution_count": 17,
     "metadata": {},
     "output_type": "execute_result"
    }
   ],
   "source": [
    "[0.1, 0.2, 0.7] * TPM * [[0.2], [0.2], [0.1]]"
   ]
  },
  {
   "cell_type": "markdown",
   "metadata": {},
   "source": [
    "习题 3.2.2\n",
    "\n",
    "某质点在位置 $0, 1, 2$ 间不断变动，其位置变化过程是一个 Markov 过程，且转移概率矩阵已知，如下所示。令 $X_n$ 表示 $n$ 时刻质点的位置，求 $\\Pr(X_n = 0\\ |\\ X_0 = 0)$, ($n = 0, 1, 2, 3, 4$)."
   ]
  },
  {
   "cell_type": "code",
   "execution_count": null,
   "metadata": {
    "collapsed": true
   },
   "outputs": [],
   "source": [
    "import numpy as np\n",
    "\n",
    "# 转移概率矩阵\n",
    "TPM = np.matrix( [[0.0, 0.5, 0.5],\n",
    "                  [0.5, 0.0, 0.5],\n",
    "                  [0.5, 0.5, 0.0]] )"
   ]
  },
  {
   "cell_type": "markdown",
   "metadata": {},
   "source": [
    "首先我们求一求每一个各个状态出现的概率分布"
   ]
  },
  {
   "cell_type": "code",
   "execution_count": 19,
   "metadata": {
    "collapsed": true
   },
   "outputs": [],
   "source": [
    "# X1 的概率分布\n",
    "X1_dist = [0, 0.5, 0.5]\n",
    "\n",
    "# X2 的概率分布\n",
    "X2_dist = X1_dist * TPM\n",
    "\n",
    "# 下面的程序计算已知第 m 步时的概率分布为 Xm_dist 的情况下，第 n 步时各个状态的概率分布\n",
    "# 默认 m 是第 0 步时的各个状态的概率分布\n",
    "def X_dist( n, TPM, initial_dist, m=0 ):\n",
    "    if n==0:\n",
    "        return initial_dist\n",
    "    else:\n",
    "        return initial_dist * (TPM ** (n-m))"
   ]
  },
  {
   "cell_type": "code",
   "execution_count": 24,
   "metadata": {
    "collapsed": false
   },
   "outputs": [
    {
     "name": "stdout",
     "output_type": "stream",
     "text": [
      "X2 的概率分布为[[ 0.5   0.25  0.25]]\n",
      "X3 的概率分布为[[ 0.25   0.375  0.375]]\n",
      "X4 的概率分布为[[ 0.375   0.3125  0.3125]]\n"
     ]
    }
   ],
   "source": [
    "for n in [2, 3, 4]:\n",
    "    print( \"X\" + str(n) + \" 的概率分布为\" + str(X_dist( n, TPM, X1_dist )) )"
   ]
  },
  {
   "cell_type": "markdown",
   "metadata": {},
   "source": [
    "下面的程序直接求出现指定状态的概率"
   ]
  },
  {
   "cell_type": "code",
   "execution_count": 12,
   "metadata": {
    "collapsed": true
   },
   "outputs": [],
   "source": [
    "# 设状态间的转移概率矩阵 TPM 已知，矩阵的行号表示第 n 步的状态，列号表示第 n＋1 步的状态\n",
    "# 下面的程序计算初始状态为 initial_state 的情况下，第 n 步的状态为 state 的概率\n",
    "# 初始状态默认为第 0 步的状态\n",
    "\n",
    "def StatePr( state, n, TPM, initial_state):\n",
    "    # 根据初始状态和概率转移矩阵得到第 1 步后各个状态的概率分布\n",
    "    X1_dist = TPM[initial_state]\n",
    "    \n",
    "    # 根据第 1 步后概率分布和转移概率矩阵得到第 n 步后各个状态的概率分布\n",
    "    Xn_dist = X1_dist * (TPM ** (n-1))\n",
    "    \n",
    "    # 返回状态概率分布中状态 state 的概率\n",
    "    if n==0:\n",
    "        return 1\n",
    "    elif n==1:\n",
    "        return X1_dist[0, state]\n",
    "    else:\n",
    "        return Xn_dist[0, state]"
   ]
  },
  {
   "cell_type": "code",
   "execution_count": 15,
   "metadata": {
    "collapsed": false
   },
   "outputs": [
    {
     "name": "stdout",
     "output_type": "stream",
     "text": [
      "第0步的状态为0的概率是1\n",
      "第1步的状态为0的概率是0.0\n",
      "第2步的状态为0的概率是0.5\n",
      "第3步的状态为0的概率是0.25\n",
      "第4步的状态为0的概率是0.375\n"
     ]
    }
   ],
   "source": [
    "for n in range(5):\n",
    "    print( \"第\" + str(n) + \"步的状态为0的概率是\" + str(StatePr( 0, n, TPM, 0 )) )"
   ]
  },
  {
   "cell_type": "code",
   "execution_count": null,
   "metadata": {
    "collapsed": true
   },
   "outputs": [],
   "source": []
  },
  {
   "cell_type": "markdown",
   "metadata": {},
   "source": [
    "习题 3.2.3"
   ]
  },
  {
   "cell_type": "code",
   "execution_count": 16,
   "metadata": {
    "collapsed": true
   },
   "outputs": [],
   "source": [
    "import numpy as np\n",
    "\n",
    "# 转移概率矩阵\n",
    "TPM = np.matrix( [[0.7, 0.2, 0.1],\n",
    "                  [0.0, 0.6, 0.4],\n",
    "                  [0.5, 0.0, 0.5]] )"
   ]
  },
  {
   "cell_type": "code",
   "execution_count": 17,
   "metadata": {
    "collapsed": false
   },
   "outputs": [
    {
     "name": "stdout",
     "output_type": "stream",
     "text": [
      "在初始状态为0的条件下，第3步的状态为1的概率是0.264\n"
     ]
    }
   ],
   "source": [
    "initial_state = 0\n",
    "n = 3\n",
    "state = 1\n",
    "\n",
    "print( \"在初始状态为\" + str(initial_state) + \"的条件下，第\" + str(n) + \\\n",
    "      \"步的状态为\" + str(state) + \"的概率是\" + str(StatePr( state, n, TPM, initial_state )) )"
   ]
  },
  {
   "cell_type": "code",
   "execution_count": 18,
   "metadata": {
    "collapsed": false
   },
   "outputs": [
    {
     "name": "stdout",
     "output_type": "stream",
     "text": [
      "在初始状态为0的条件下，第4步的状态为1的概率是0.254\n"
     ]
    }
   ],
   "source": [
    "initial_state = 0\n",
    "n = 4\n",
    "state = 1\n",
    "\n",
    "print( \"在初始状态为\" + str(initial_state) + \"的条件下，第\" + str(n) + \\\n",
    "      \"步的状态为\" + str(state) + \"的概率是\" + str(StatePr( state, n, TPM, initial_state )) )"
   ]
  },
  {
   "cell_type": "code",
   "execution_count": null,
   "metadata": {
    "collapsed": true
   },
   "outputs": [],
   "source": []
  },
  {
   "cell_type": "code",
   "execution_count": 30,
   "metadata": {
    "collapsed": false
   },
   "outputs": [],
   "source": []
  },
  {
   "cell_type": "code",
   "execution_count": null,
   "metadata": {
    "collapsed": true
   },
   "outputs": [],
   "source": []
  },
  {
   "cell_type": "code",
   "execution_count": null,
   "metadata": {
    "collapsed": true
   },
   "outputs": [],
   "source": []
  },
  {
   "cell_type": "code",
   "execution_count": null,
   "metadata": {
    "collapsed": true
   },
   "outputs": [],
   "source": []
  },
  {
   "cell_type": "markdown",
   "metadata": {},
   "source": [
    "# 一个简单的马尔可夫链\n",
    "\n",
    "在一个随机过程中，如果事件发生的概率在 t 时刻所处的状态为已知时，它在 t+1 时刻只与 t 时刻的状态有关，而与之前所处的状态无关，则称该过程具有马尔可夫性.\n",
    "\n",
    "时间和状态都是离散的马尔可夫过程称为马尔可夫链. 马尔可夫链在经济学，社会学，生命科学领域有着广泛的应用. 这里举例说明.\n",
    "\n",
    "例子： 姜华平、陈海泳对某城市 2002 年居民出行方式所占比例进行了调查. 结果如下\n",
    "\n",
    "公交车(bus), 自行车(Bicycle), 步行(walk), 其他(other)\n",
    "19%, 14%, 56%, 11%\n",
    "\n",
    "本时期各出行方式转移概率如下表(%)\n",
    "\n",
    "|--------|- bus -|- bicycle -|- walk -|- other -|\n",
    "|- bus  -|- 90  -|-   4  -|-    2   -|-    4     -|   \n",
    "bicycle   7     86      1     6        \n",
    "walk      8      7     80     5        \n",
    "other    10      2      3     85          \n",
    "\n",
    "假设该城市居民每天出行总人数为 468 万人次，出行人数不变，各出行方式的转移概率也不变，问题： \n",
    "（1） 预测2006年该城市乘公交出行的人数\n",
    "（2） 经历足够长的时间，求出行方式的比例是多少？"
   ]
  },
  {
   "cell_type": "markdown",
   "metadata": {},
   "source": [
    "分析：这是一个时间齐次马尔科夫过程，可根据转移矩阵的初始定义进行推断\n",
    " \n",
    "第一问"
   ]
  },
  {
   "cell_type": "code",
   "execution_count": null,
   "metadata": {
    "collapsed": true
   },
   "outputs": [],
   "source": [
    "import numpy as np\n",
    "\n",
    "data = np.matrix( [[90, 4, 2, 4],\n",
    "                  [7, 86, 1, 6],\n",
    "                  [8, 7, 80, 5],\n",
    "                  [10, 2, 3, 85]] )\n",
    "\n",
    "# 转移概率矩阵"
   ]
  },
  {
   "cell_type": "code",
   "execution_count": null,
   "metadata": {
    "collapsed": true
   },
   "outputs": [],
   "source": [
    "# 下一年的概率应该为当年分配概率和转移矩阵的乘积\n",
    "\n",
    "```{r}\n",
    "## 2003 年\n",
    "p1 <- p%*%T\n",
    "\n",
    "## 2004 年\n",
    "p2 <- p1%*%T\n",
    "\n",
    "## 2005 年\n",
    "p3 <- p2%*%T\n",
    "\n",
    "## 2006 年\n",
    "p4 <- p3%*%T\n",
    "```\n",
    "\n",
    "2006 年乘坐公交车出行的总人数应为\n",
    "\n",
    "```{r}\n",
    "res <- 468 * p4[1]\n",
    "```\n",
    " "
   ]
  },
  {
   "cell_type": "markdown",
   "metadata": {},
   "source": [
    "第二问，用计算机模拟的方法，通过对转移矩阵的平衡状态近似求解"
   ]
  },
  {
   "cell_type": "code",
   "execution_count": null,
   "metadata": {
    "collapsed": true
   },
   "outputs": [],
   "source": [
    " \n",
    "```{r}\n",
    "## 初始化一个空向量\n",
    "s <- c()\n",
    " \n",
    "## 假设一个人在初始时刻选择1公交车出行\n",
    "s[1] <- 1\n",
    " \n",
    "## 则其在t1时刻选择任何一种出行方式的概率如下\n",
    "T[s[j-1],]\n",
    " \n",
    "## 但是他选择的出行方式可以是随机的，故用sample按照前一个状态的概率，随机抽取一次\n",
    "res <- sample(1:4, size = 1, prob = T[s[j-1],])\n",
    " \n",
    "## 抽取的结果，就是t1时的状态\n",
    "## 而 t2时的状态只受到t1时状态的影响，因此又回到T[s[j-1],]，至此完成一次模拟\n",
    " \n",
    "## 每一次抽样都是只受到前一次抽样的影响\n",
    "for (j in 2:50000)\n",
    "   s[j] <- sample(1:4, size = 1, prob = T[s[j-1],])\n",
    "```\n",
    "\n",
    "在进行多次模拟后，马尔可夫链逐渐收敛. 模拟 50000 代的概率分配如下\n",
    "\n",
    "```{r}\n",
    "res <- table(s[1:50000])/50000\n",
    "names(res) <- c(\"bus\", \"bicycle\", \"walk\", \"other\")\n",
    "```"
   ]
  },
  {
   "cell_type": "markdown",
   "metadata": {},
   "source": [
    "题外\n",
    "\n",
    "无论假设s[1] = 1,2,3 还是4，进行多次模拟后，所得的结果是非常接近的. 这也表明，马尔可夫过程的平衡状态与初始值无关."
   ]
  }
 ],
 "metadata": {
  "kernelspec": {
   "display_name": "Python 3",
   "language": "python",
   "name": "python3"
  },
  "language_info": {
   "codemirror_mode": {
    "name": "ipython",
    "version": 3
   },
   "file_extension": ".py",
   "mimetype": "text/x-python",
   "name": "python",
   "nbconvert_exporter": "python",
   "pygments_lexer": "ipython3",
   "version": "3.5.2"
  }
 },
 "nbformat": 4,
 "nbformat_minor": 0
}
