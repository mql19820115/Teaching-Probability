{
 "cells": [
  {
   "cell_type": "markdown",
   "metadata": {},
   "source": [
    "### 盒子模型\n",
    "\n",
    "研究将 3 个球放到 3 个盒子里的所有情况，我们考虑三个维度：\n",
    "- 维度 1：每个盒子中可放的球数。至多 1 个，或数量不限\n",
    "- 维度 2：球是否可辨。球有编号，或完全一样\n",
    "- 维度 3：盒子是否可辨。盒子有编号，或完全一样\n",
    "\n",
    "这三个维度的组合将问题分成了 8 种情况"
   ]
  },
  {
   "cell_type": "code",
   "execution_count": null,
   "metadata": {},
   "outputs": [],
   "source": [
    "#############################################\n",
    "# 情形 1：每盒至多放一个球。球可辨。盒可辨。\n",
    "#############################################\n",
    "\n",
    "import itertools\n",
    "\n",
    "# 我们假定球上贴有 '♠️', '♥️', '♣️', '♦️'，盒子有编号 A, B, C。\n",
    "boxes = [ 'A', 'B', 'C' ]\n",
    "balls = [ '♣️', '♦️' ]\n",
    "\n",
    "print( \"情形 1 下，所有可能的放球方案如下\" )\n",
    "cases = [ dict( sorted( zip( permute_boxes, balls ) ) ) for permute_boxes in itertools.permutations( boxes ) ]\n",
    "\n",
    "# 输出结果\n",
    "[ print( item ) for item in cases ]\n",
    "print( \"总共有 {:d} 种不同的放法.\".format{len(cases)} )\n",
    "print()"
   ]
  },
  {
   "cell_type": "markdown",
   "metadata": {},
   "source": [
    "我们一般认为上述样本空间中的样本点都是等可能的"
   ]
  },
  {
   "cell_type": "code",
   "execution_count": null,
   "metadata": {},
   "outputs": [],
   "source": [
    "#############################################\n",
    "# 情形 2：每盒至多放一个球。球不可辨。盒可辨。\n",
    "#############################################\n",
    "\n",
    "# 我们假定球都是红色，盒子有编号 A, B, C。\n",
    "boxes = [ 'A', 'B', 'C' ]\n",
    "balls = [ '♣️', '♣️' ]\n",
    "\n",
    "print( \"情形 2 下，所有可能的放球方案如下\" )\n",
    "cases = [ dict( sorted( zip( permute_boxes, balls ) ) ) for permute_boxes in itertools.permutations( boxes ) ]\n",
    "\n",
    "# 输出结果\n",
    "[ print( item ) for item in cases ]\n",
    "print()\n",
    "\n",
    "print( \"去掉其中重复的，剩下的放球方案如下\" )\n",
    "no_duplicate_cases = []\n",
    "[ no_duplicate_cases.append( x ) for x in cases if x not in no_duplicate_cases ]\n",
    "\n",
    "# 输出结果\n",
    "[ print( item ) for item in no_duplicate_cases ]\n",
    "print( \"总共有 %d 种不同的放法.\" % len( no_duplicate_cases ) )\n",
    "print()"
   ]
  },
  {
   "cell_type": "code",
   "execution_count": null,
   "metadata": {},
   "outputs": [],
   "source": [
    "#############################################\n",
    "# 情形 3：每盒至多放一个球。球可辨。盒不可辨。\n",
    "#############################################\n",
    "\n",
    "# 我们假定球都是红色，盒子有编号 A, B, C。\n",
    "boxes = [ 'A', 'A', 'A' ]\n",
    "balls = [ '♣️', '♦️' ]\n",
    "\n",
    "print( \"情形 3 下，所有可能的放球方案如下\" )\n",
    "# 由于我们是以盒子作为字典的键，因此盒子不可辨时，不能使用字典结构，只能用元组.\n",
    "cases = [ sorted( list( zip( permute_boxes, balls ) ) ) for permute_boxes in itertools.permutations( boxes ) ]\n",
    "\n",
    "# 输出结果\n",
    "[ print( item ) for item in cases ]\n",
    "print()\n",
    "\n",
    "print( \"去掉其中重复的，剩下的放球方案如下\" )\n",
    "no_duplicate_cases = []\n",
    "[ no_duplicate_cases.append( x ) for x in cases if x not in no_duplicate_cases ]\n",
    "\n",
    "# 输出结果\n",
    "[ print( item ) for item in no_duplicate_cases ]\n",
    "print( \"总共有 %d 种不同的放法.\" % len( no_duplicate_cases ) )\n",
    "print()"
   ]
  },
  {
   "cell_type": "code",
   "execution_count": null,
   "metadata": {},
   "outputs": [],
   "source": [
    "#############################################\n",
    "# 情形 4：每盒至多放一个球。球不可辨。盒不可辨。\n",
    "#############################################\n",
    "\n",
    "# 显然，只有一种。\n",
    "\n",
    "\n",
    "print()\n",
    "\n",
    "\n",
    "#############################################\n",
    "# 情形 5：每盒球数不限。球可辨。盒可辨。\n",
    "#############################################\n",
    "\n",
    "boxes = [ 'A', 'B', 'C' ]\n",
    "balls = [ '♣️', '♦️' ]\n",
    "\n",
    "print( \"对于情形 5，首先，我们以各个颜色的球在哪个盒子里的形式给出所有不同的放法\" )\n",
    "\n",
    "# 每个球有 3 种放法，所有可能的放法就是每个球放法的 outer product\n",
    "\n",
    "cases = [ dict( sorted( zip( balls, permute_boxes ) ) ) for \n",
    "            permute_boxes in itertools.product( boxes, repeat=len( balls ) ) ]\n",
    "\n",
    "# 输出结果\n",
    "[ print( item ) for item in cases ]\n",
    "print( \"总共有 %d 种不同的放法.\" % len( cases ) )\n",
    "print()\n",
    "\n",
    "\n",
    "# 换一种表示形式\n",
    "\n",
    "print( \"我们也可以用每个盒子中都有哪些球的形式给出所有的可能放法\" )\n",
    "\n",
    "flip_cases = []\n",
    "\n",
    "for case in cases:\n",
    "    flip = {box: [] for box in boxes}   # 生成以盒子为键，空列表为值的字典\n",
    "\n",
    "    # 向列表中添加放入相应盒子的球\n",
    "    for key, value in case.items():\n",
    "        flip[value].append( key )\n",
    "    \n",
    "    flip_cases.append( flip )\n",
    "\n",
    "[ print( item ) for item in flip_cases ]\n",
    "print( \"总共有 %d 种不同的放法.\" % len( flip_cases ) )\n",
    "print()"
   ]
  },
  {
   "cell_type": "code",
   "execution_count": null,
   "metadata": {},
   "outputs": [],
   "source": [
    "#############################################\n",
    "# 情形 6：每盒球数不限。球不可辨。盒可辨。\n",
    "#############################################\n",
    "\n",
    "boxes = [ 'A', 'B', 'C' ]\n",
    "balls = [ '♣️', '♣️' ]\n",
    "\n",
    "print( \"对于情形 6，首先，我们以各个颜色的球在哪个盒子里的形式给出所有不同的放法\" )\n",
    "\n",
    "cases = [ list( sorted( zip( balls, permute_boxes ) ) ) for \n",
    "            permute_boxes in itertools.product( boxes, repeat=len( balls ) ) ]\n",
    "\n",
    "# 输出结果\n",
    "[ print( item ) for item in cases ]\n",
    "print()\n",
    "\n",
    "print( \"去掉其中重复的，剩下的放球方案如下\" )\n",
    "no_duplicate_cases = []\n",
    "[ no_duplicate_cases.append( case ) for case in cases if case not in no_duplicate_cases ]\n",
    "\n",
    "[ print( item ) for item in no_duplicate_cases ]\n",
    "print( \"总共有 %d 种不同的放法.\" % len( no_duplicate_cases ) )\n",
    "print()"
   ]
  },
  {
   "cell_type": "code",
   "execution_count": null,
   "metadata": {},
   "outputs": [],
   "source": [
    "# 换一种表示形式\n",
    "\n",
    "print( \"我们也可以用每个盒子中都有哪些球的形式给出所有的可能放法\" )\n",
    "\n",
    "flip_cases = []\n",
    "\n",
    "for case in cases:\n",
    "    flip = {box: [] for box in boxes}   # 生成以盒子为键，空列表为值的字典\n",
    "\n",
    "    # 向列表中添加放入相应盒子的球\n",
    "    for item in case:\n",
    "        flip[item[1]].append( item[0] )\n",
    "    \n",
    "    flip_cases.append( flip )\n",
    "\n",
    "[ print( item ) for item in flip_cases ]\n",
    "print()\n",
    "\n",
    "print( \"去掉其中重复的，剩下的放球方案如下\" )\n",
    "no_duplicate_cases = []\n",
    "[ no_duplicate_cases.append( case ) for case in cases if case not in no_duplicate_cases ]\n",
    "\n",
    "[ print( item ) for item in no_duplicate_cases ]\n",
    "print( \"总共有 %d 种不同的放法.\" % len( no_duplicate_cases ) )\n",
    "print()"
   ]
  },
  {
   "cell_type": "code",
   "execution_count": null,
   "metadata": {},
   "outputs": [],
   "source": [
    "# 情形 7：每盒球数不限。球可辨。盒不可辨。"
   ]
  },
  {
   "cell_type": "code",
   "execution_count": null,
   "metadata": {},
   "outputs": [],
   "source": [
    "# 情形 8：每盒球数不限。球不可辨。盒子亦不可辨。"
   ]
  },
  {
   "cell_type": "markdown",
   "metadata": {},
   "source": [
    "### 例 生日问题"
   ]
  },
  {
   "cell_type": "code",
   "execution_count": 6,
   "metadata": {},
   "outputs": [
    {
     "name": "stdout",
     "output_type": "stream",
     "text": [
      "人数为 5 人的班级，有同学同一天过生日的概率为 0.02703\n",
      "人数为 10 人的班级，有同学同一天过生日的概率为 0.11599\n",
      "人数为 15 人的班级，有同学同一天过生日的概率为 0.24999\n",
      "人数为 20 人的班级，有同学同一天过生日的概率为 0.40581\n",
      "人数为 25 人的班级，有同学同一天过生日的概率为 0.56041\n",
      "人数为 30 人的班级，有同学同一天过生日的概率为 0.69632\n",
      "人数为 35 人的班级，有同学同一天过生日的概率为 0.80410\n",
      "人数为 40 人的班级，有同学同一天过生日的概率为 0.88199\n",
      "人数为 45 人的班级，有同学同一天过生日的概率为 0.93362\n",
      "人数为 50 人的班级，有同学同一天过生日的概率为 0.96513\n",
      "人数为 55 人的班级，有同学同一天过生日的概率为 0.98290\n",
      "人数为 60 人的班级，有同学同一天过生日的概率为 0.99217\n",
      "人数为 65 人的班级，有同学同一天过生日的概率为 0.99665\n",
      "人数为 70 人的班级，有同学同一天过生日的概率为 0.99866\n"
     ]
    }
   ],
   "source": [
    "import math\n",
    "\n",
    "def sameBirthdayProb(n):\n",
    "    return 1 - math.exp(-(n * (n-1) / 730))\n",
    "\n",
    "for i in range(5, 71, 5):\n",
    "    print('人数为 {:d} 人的班级，有同学同一天过生日的概率为 {:.5f}'.format(i, sameBirthdayProb(i)))"
   ]
  },
  {
   "cell_type": "code",
   "execution_count": null,
   "metadata": {},
   "outputs": [],
   "source": []
  }
 ],
 "metadata": {
  "kernelspec": {
   "display_name": "Python 3",
   "language": "python",
   "name": "python3"
  },
  "language_info": {
   "codemirror_mode": {
    "name": "ipython",
    "version": 3
   },
   "file_extension": ".py",
   "mimetype": "text/x-python",
   "name": "python",
   "nbconvert_exporter": "python",
   "pygments_lexer": "ipython3",
   "version": "3.7.2"
  }
 },
 "nbformat": 4,
 "nbformat_minor": 1
}
