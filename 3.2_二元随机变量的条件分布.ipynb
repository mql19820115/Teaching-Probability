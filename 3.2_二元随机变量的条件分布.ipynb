{
 "cells": [
  {
   "cell_type": "code",
   "execution_count": 1,
   "metadata": {},
   "outputs": [],
   "source": [
    "##########################\n",
    "# 配置运行环境\n",
    "##########################\n",
    "\n",
    "%matplotlib inline\n",
    "\n",
    "import numpy as np\n",
    "import pandas as pd\n",
    "from matplotlib import pyplot\n",
    "\n",
    "# matplotlib 对中文的支持及保存为 pdf 格式\n",
    "from matplotlib import font_manager\n",
    "cn_font = font_manager.FontProperties(fname='msyh.ttf', size=16)  # 网上支持中文\n",
    "\n",
    "from matplotlib import rcParams\n",
    "# rcParams['font.family'] = 'Microsoft YaHei'  # 本地支持中文\n",
    "rcParams['pdf.fonttype'] = 42\n",
    "rcParams['figure.figsize'] = (8, 5)\n",
    "\n",
    "# Look pretty...\n",
    "from matplotlib import style\n",
    "style.use('ggplot')\n",
    "\n",
    "# 设置 numpy 的输出精度, 并且阻止使用科学记数法\n",
    "np.set_printoptions(precision=6, suppress=True)"
   ]
  },
  {
   "cell_type": "markdown",
   "metadata": {},
   "source": [
    "# 二元离散随机变量的条件分布\n",
    "\n",
    "考虑下列随机变量 $W, I, X, Y$，其中 $W$ 和 $X$ 的取值为 {晴天, 雨天, 阴天}，$I$ 和 $Y$ 的取值为 $0,1$。它们的联合分布列如下"
   ]
  },
  {
   "cell_type": "code",
   "execution_count": 2,
   "metadata": {},
   "outputs": [],
   "source": [
    "joint_prob_WI = pd.DataFrame([[0, 1/2], [1/6, 0], [1/3, 0]], columns=[0, 1], index=['晴天', '雨天', '阴天'])\n",
    "\n",
    "joint_prob_XY = pd.DataFrame([[1/4, 1/4], [1/6, 1/6], [1/12, 1/12]], columns=[0, 1], index=['晴天', '雨天', '阴天'])"
   ]
  },
  {
   "cell_type": "code",
   "execution_count": 3,
   "metadata": {},
   "outputs": [
    {
     "name": "stdout",
     "output_type": "stream",
     "text": [
      "随机变量 W, I 的联合分布列为 \n",
      "            0    1\n",
      "晴天  0.000000  0.5\n",
      "雨天  0.166667  0.0\n",
      "阴天  0.333333  0.0\n"
     ]
    }
   ],
   "source": [
    "print('随机变量 W, I 的联合分布列为 \\n', joint_prob_WI.head())"
   ]
  },
  {
   "cell_type": "code",
   "execution_count": 4,
   "metadata": {},
   "outputs": [
    {
     "name": "stdout",
     "output_type": "stream",
     "text": [
      "随机变量 X, Y 的联合分布列为 \n",
      "            0         1\n",
      "晴天  0.250000  0.250000\n",
      "雨天  0.166667  0.166667\n",
      "阴天  0.083333  0.083333\n"
     ]
    }
   ],
   "source": [
    "print('随机变量 X, Y 的联合分布列为 \\n', joint_prob_XY.head())"
   ]
  },
  {
   "cell_type": "markdown",
   "metadata": {},
   "source": [
    "计算下列条件概率\n",
    "1. $p_{W|I}(\\text{晴天}|1)$\n",
    "2. $p_{X|Y}(\\text{晴天}|1)$\n",
    "3. $p_{I|W}(1|\\text{阴天})$\n",
    "4. $p_{Y|X}(1|\\text{阴天})$\n",
    "\n",
    "根据条件分布的定义，我们知道\n",
    "$$\n",
    "p_{W|I}(\\text{晴天 }|\\ 1) = \\frac{p_{W,I}(\\text{晴天},1)}{p_I(1)}\n",
    "$$\n",
    "可见，要计算随机变量的条件概率，先要计算边缘分布。"
   ]
  },
  {
   "cell_type": "code",
   "execution_count": 5,
   "metadata": {},
   "outputs": [
    {
     "name": "stdout",
     "output_type": "stream",
     "text": [
      "随机变量 I 的边缘分布列为 [0.5 0.5]\n",
      "随机变量 W 的边缘分布列为 [0.5      0.166667 0.333333]\n",
      "随机变量 X 的边缘分布列为 [0.5      0.333333 0.166667]\n",
      "随机变量 Y 的边缘分布列为 [0.5 0.5]\n"
     ]
    }
   ],
   "source": [
    "prob_W = joint_prob_WI.sum(axis=1)\n",
    "prob_I = joint_prob_WI.sum(axis=0)\n",
    "prob_X = joint_prob_XY.sum(axis=1)\n",
    "prob_Y = joint_prob_XY.sum(axis=0)\n",
    "\n",
    "print('随机变量 I 的边缘分布列为 {}'.format(prob_I.values))\n",
    "print('随机变量 W 的边缘分布列为 {}'.format(prob_W.values))\n",
    "print('随机变量 X 的边缘分布列为 {}'.format(prob_X.values))\n",
    "print('随机变量 Y 的边缘分布列为 {}'.format(prob_Y.values))"
   ]
  },
  {
   "cell_type": "markdown",
   "metadata": {},
   "source": [
    "做好上述准备工作后，容易算得如下结果"
   ]
  },
  {
   "cell_type": "code",
   "execution_count": 6,
   "metadata": {
    "scrolled": true
   },
   "outputs": [
    {
     "name": "stdout",
     "output_type": "stream",
     "text": [
      "第 1 问的概率为： 1.0\n",
      "第 2 问的概率为： 0.5000000000000001\n",
      "第 3 问的概率为： 0.0\n",
      "第 4 问的概率为： 0.5\n"
     ]
    }
   ],
   "source": [
    "print('第 1 问的概率为：', joint_prob_WI.loc['晴天', 1] / prob_I[1])\n",
    "print('第 2 问的概率为：', joint_prob_XY.loc['晴天', 1] / prob_Y[1])\n",
    "print('第 3 问的概率为：', joint_prob_WI.loc['阴天', 1] / prob_W['阴天'])\n",
    "print('第 4 问的概率为：', joint_prob_XY.loc['阴天', 1] / prob_X['阴天'])"
   ]
  },
  {
   "cell_type": "markdown",
   "metadata": {},
   "source": [
    "## Simpson's Paradox\n",
    "\n",
    "我们分析一个有关高校招生中是否存在性别歧视现象的奇怪结论。\n",
    "\n",
    "假设 $G$ (性别 gender)，$D$ (院系 department)，$A$ (录取 admission) 是大学招生中涉及的三个随机变量。它们的联合分布列是一个三元数组。数据如下"
   ]
  },
  {
   "cell_type": "code",
   "execution_count": 7,
   "metadata": {},
   "outputs": [],
   "source": [
    "data = {\n",
    "        ('female', 'A', 'admitted'): 0.019566946531153304,\n",
    "        ('female', 'A', 'rejected'): 0.004295183384887301,\n",
    "        ('female', 'B', 'admitted'): 0.0037560760053027007,\n",
    "        ('female', 'B', 'rejected'): 0.0017675651789660005,\n",
    "        ('female', 'C', 'admitted'): 0.044547061422890007,\n",
    "        ('female', 'C', 'rejected'): 0.086473707467962915,\n",
    "        ('female', 'D', 'admitted'): 0.028999116217410508,\n",
    "        ('female', 'D', 'rejected'): 0.053855501546619514,\n",
    "        ('female', 'E', 'admitted'): 0.020839593460008802,\n",
    "        ('female', 'E', 'rejected'): 0.065992045956694709,\n",
    "        ('female', 'F', 'admitted'): 0.0052739726027397011,\n",
    "        ('female', 'F', 'rejected'): 0.070068493150684918,\n",
    "        ('male', 'A', 'admitted'): 0.11301369863013702,\n",
    "        ('male', 'A', 'rejected'): 0.069266460450729109,\n",
    "        ('male', 'B', 'admitted'): 0.077949624392399511,\n",
    "        ('male', 'B', 'rejected'): 0.045779938135218703,\n",
    "        ('male', 'C', 'admitted'): 0.026568714096332307,\n",
    "        ('male', 'C', 'rejected'): 0.045238621299160404,\n",
    "        ('male', 'D', 'admitted'): 0.030404330534688506,\n",
    "        ('male', 'D', 'rejected'): 0.061730004418912916,\n",
    "        ('male', 'E', 'admitted'): 0.011816173221387503,\n",
    "        ('male', 'E', 'rejected'): 0.030384445426425107,\n",
    "        ('male', 'F', 'admitted'): 0.0049447635881573011,\n",
    "        ('male', 'F', 'rejected'): 0.077467962881131211\n",
    "       }"
   ]
  },
  {
   "cell_type": "markdown",
   "metadata": {},
   "source": [
    "方便起见，我们用一个 numpy 多元数组存储三元联合分布列。"
   ]
  },
  {
   "cell_type": "code",
   "execution_count": 8,
   "metadata": {
    "scrolled": true
   },
   "outputs": [],
   "source": [
    "# 建立变量取值和数组下标的映射\n",
    "gender = dict(zip(['male', 'female'], range(2)))\n",
    "department = dict(zip(['A', 'B', 'C', 'D', 'E', 'F'], range(6)))\n",
    "admission = dict(zip(['admitted', 'rejected'], range(2)))"
   ]
  },
  {
   "cell_type": "code",
   "execution_count": 9,
   "metadata": {},
   "outputs": [],
   "source": [
    "import itertools\n",
    "\n",
    "# 初始化联合分布列\n",
    "joint_probs = np.zeros((len(gender), len(department), len(admission)))\n",
    "\n",
    "# 读入数据\n",
    "for i, j, k in itertools.product(gender.keys(), department.keys(), admission.keys()):\n",
    "    joint_probs[gender[i], department[j], admission[k]] = data[i, j, k]"
   ]
  },
  {
   "cell_type": "code",
   "execution_count": 10,
   "metadata": {},
   "outputs": [
    {
     "data": {
      "text/plain": [
       "array([[[0.113014, 0.069266],\n",
       "        [0.07795 , 0.04578 ],\n",
       "        [0.026569, 0.045239],\n",
       "        [0.030404, 0.06173 ],\n",
       "        [0.011816, 0.030384],\n",
       "        [0.004945, 0.077468]],\n",
       "\n",
       "       [[0.019567, 0.004295],\n",
       "        [0.003756, 0.001768],\n",
       "        [0.044547, 0.086474],\n",
       "        [0.028999, 0.053856],\n",
       "        [0.02084 , 0.065992],\n",
       "        [0.005274, 0.070068]]])"
      ]
     },
     "execution_count": 10,
     "metadata": {},
     "output_type": "execute_result"
    }
   ],
   "source": [
    "joint_probs"
   ]
  },
  {
   "cell_type": "markdown",
   "metadata": {},
   "source": [
    "如果我们要调取一位女性申请者被 'C' 院系录取的概率，用如下的语句即可"
   ]
  },
  {
   "cell_type": "code",
   "execution_count": 11,
   "metadata": {},
   "outputs": [
    {
     "data": {
      "text/plain": [
       "0.04454706142289001"
      ]
     },
     "execution_count": 11,
     "metadata": {},
     "output_type": "execute_result"
    }
   ],
   "source": [
    "joint_probs[gender['female'], department['C'], admission['admitted']]"
   ]
  },
  {
   "cell_type": "markdown",
   "metadata": {},
   "source": [
    "下面我们看看会发生什么奇怪的事。首先我们算算变量的边缘分布。"
   ]
  },
  {
   "cell_type": "code",
   "execution_count": 12,
   "metadata": {},
   "outputs": [],
   "source": [
    "probs_DA = joint_probs.sum(axis = 0)\n",
    "probs_GA = joint_probs.sum(axis = 1)\n",
    "probs_GD = joint_probs.sum(axis = 2)"
   ]
  },
  {
   "cell_type": "markdown",
   "metadata": {},
   "source": [
    "这里 `probs_DA` 表示给定在 $D$ 和 $A$ 的值的情况下，将 $G$ 的所有值对应的概率相加，因此得到 $D$ 和 $A$ 的联合边缘分布，其中记录了被各院系总的录取率。此时如果我们想知道被 'C' 院系录取的概率是多少，可以输入"
   ]
  },
  {
   "cell_type": "code",
   "execution_count": 13,
   "metadata": {},
   "outputs": [
    {
     "data": {
      "text/plain": [
       "0.07111577551922231"
      ]
     },
     "execution_count": 13,
     "metadata": {},
     "output_type": "execute_result"
    }
   ],
   "source": [
    "probs_DA[department['C'], admission['admitted']]"
   ]
  },
  {
   "cell_type": "markdown",
   "metadata": {},
   "source": [
    "再比如 `probs_GA` 是 $G$ 和 $A$ 的联合边缘分布，它是在给定 $G$ 和 $A$ 的值的情况下，将 $D$ 的所有值对应的概率相加得到的，表示某一性别总的录取率。例如，我们想知道女性的录取率，可以输入"
   ]
  },
  {
   "cell_type": "code",
   "execution_count": 14,
   "metadata": {},
   "outputs": [
    {
     "data": {
      "text/plain": [
       "0.12298276623950503"
      ]
     },
     "execution_count": 14,
     "metadata": {},
     "output_type": "execute_result"
    }
   ],
   "source": [
    "probs_GA[gender['female'], admission['admitted']]"
   ]
  },
  {
   "cell_type": "markdown",
   "metadata": {},
   "source": [
    "下面我们算一算在一名申请者是女性的情况下，她被录取的概率是多少？\n",
    "$$\n",
    "p_{A|G}(\\text{admitted }|\\text{ female}) = \\frac{p_{A,G}(\\text{admitted}, \\text{female})}{p_{G}(\\text{female})}\n",
    "$$\n",
    "\n",
    "容易想到女性录取情况存储在 probs_GA 中。数据如下"
   ]
  },
  {
   "cell_type": "code",
   "execution_count": 15,
   "metadata": {},
   "outputs": [],
   "source": [
    "female_only = probs_GA[gender['female']]"
   ]
  },
  {
   "cell_type": "code",
   "execution_count": 16,
   "metadata": {},
   "outputs": [
    {
     "data": {
      "text/plain": [
       "array([0.122983, 0.282452])"
      ]
     },
     "execution_count": 16,
     "metadata": {},
     "output_type": "execute_result"
    }
   ],
   "source": [
    "female_only"
   ]
  },
  {
   "cell_type": "markdown",
   "metadata": {},
   "source": [
    "这表明女性被录取的概率为 0.12，被拒绝的概率为 0.28.\n",
    "\n",
    "通过规一化，我们得到女性录取率的分布如下"
   ]
  },
  {
   "cell_type": "code",
   "execution_count": 17,
   "metadata": {},
   "outputs": [],
   "source": [
    "female_admission_prob = female_only / np.sum(female_only)"
   ]
  },
  {
   "cell_type": "code",
   "execution_count": 18,
   "metadata": {},
   "outputs": [
    {
     "data": {
      "text/plain": [
       "array([0.303335, 0.696665])"
      ]
     },
     "execution_count": 18,
     "metadata": {},
     "output_type": "execute_result"
    }
   ],
   "source": [
    "female_admission_prob"
   ]
  },
  {
   "cell_type": "markdown",
   "metadata": {},
   "source": [
    "为了方便使用，我们将上述分布列表示为映射形式。我们可以看到一位女性申请者有 30% 的概率被录取，70% 的概率被拒绝。"
   ]
  },
  {
   "cell_type": "code",
   "execution_count": 22,
   "metadata": {},
   "outputs": [],
   "source": [
    "female_admission_prob = dict(zip(admission.keys(), female_admission_prob))"
   ]
  },
  {
   "cell_type": "markdown",
   "metadata": {},
   "source": [
    "下面我们看看男性的情况"
   ]
  },
  {
   "cell_type": "code",
   "execution_count": 23,
   "metadata": {},
   "outputs": [
    {
     "name": "stdout",
     "output_type": "stream",
     "text": [
      "{'admitted': 0.44519509476031227, 'rejected': 0.5548049052396877}\n"
     ]
    }
   ],
   "source": [
    "male_only = probs_GA[gender['male']]\n",
    "male_admission_prob = male_only / np.sum(male_only)\n",
    "male_admission_prob = dict(zip(admission.keys(), male_admission_prob))\n",
    "\n",
    "print(male_admission_prob)"
   ]
  },
  {
   "cell_type": "markdown",
   "metadata": {},
   "source": [
    "我们看到一位男性申请者有 45% 的概率被录取，55% 的概率被拒绝。这是多面明显的歧视啊！\n",
    "\n",
    "我们进一步考察各院系歧视情况的严重程度。\n",
    "\n",
    "首先，我们看看在被录取的人中，男性和女性所占比例。"
   ]
  },
  {
   "cell_type": "code",
   "execution_count": 25,
   "metadata": {},
   "outputs": [
    {
     "name": "stdout",
     "output_type": "stream",
     "text": [
      "{'male': 0.6827725345369992, 'female': 0.3172274654630008}\n"
     ]
    }
   ],
   "source": [
    "admitted_only = probs_GA[:, admission['admitted']]\n",
    "admitted_gender_prob = admitted_only / np.sum(admitted_only)\n",
    "admitted_gender_prob = dict(zip(gender.keys(), admitted_gender_prob))\n",
    "\n",
    "print(admitted_gender_prob)"
   ]
  },
  {
   "cell_type": "markdown",
   "metadata": {},
   "source": [
    "可见，各院系更偏爱男性申请者。\n",
    "\n",
    "下面，我们分院系考察上述问题"
   ]
  },
  {
   "cell_type": "code",
   "execution_count": 30,
   "metadata": {},
   "outputs": [
    {
     "name": "stdout",
     "output_type": "stream",
     "text": [
      "一名男性申请者被 A 院系录取的概率为 0.6200000000000001.\n",
      "一名女性申请者被 A 院系录取的概率为 0.8200000000000004.\n",
      "一名男性申请者被 B 院系录取的概率为 0.6300000000000003.\n",
      "一名女性申请者被 B 院系录取的概率为 0.679999999999997.\n",
      "一名男性申请者被 C 院系录取的概率为 0.37000000000000005.\n",
      "一名女性申请者被 C 院系录取的概率为 0.3400000000000001.\n",
      "一名男性申请者被 D 院系录取的概率为 0.3300000000000004.\n",
      "一名女性申请者被 D 院系录取的概率为 0.35.\n",
      "一名男性申请者被 E 院系录取的概率为 0.27999999999999936.\n",
      "一名女性申请者被 E 院系录取的概率为 0.23999999999999955.\n",
      "一名男性申请者被 F 院系录取的概率为 0.05999999999999988.\n",
      "一名女性申请者被 F 院系录取的概率为 0.0699999999999997.\n"
     ]
    }
   ],
   "source": [
    "for d, g in itertools.product(department.keys(), gender.keys()):\n",
    "    admission_prob = joint_probs[gender[g], department[d], :]\n",
    "    admission_prob = admission_prob / np.sum(admission_prob)\n",
    "    admission_prob = dict(zip(admission.keys(), admission_prob))\n",
    "    print('一名{}性申请者被 {} 院系录取的概率为 {}.'.format({'male': '男', 'female': '女'}[g], d, admission_prob['admitted']))"
   ]
  },
  {
   "cell_type": "markdown",
   "metadata": {},
   "source": [
    "神奇的事发生了，我们看到除了 C 和 E 两个院系，其余院系男性的录取率都低于女性，即便这两个院系，录取率相差也不大。\n",
    "\n",
    "为什么总的录取率男性高于女性，但是各个院系的录取率女性高于男性呢？"
   ]
  }
 ],
 "metadata": {
  "kernelspec": {
   "display_name": "Python 3",
   "language": "python",
   "name": "python3"
  },
  "language_info": {
   "codemirror_mode": {
    "name": "ipython",
    "version": 3
   },
   "file_extension": ".py",
   "mimetype": "text/x-python",
   "name": "python",
   "nbconvert_exporter": "python",
   "pygments_lexer": "ipython3",
   "version": "3.7.2"
  }
 },
 "nbformat": 4,
 "nbformat_minor": 1
}
