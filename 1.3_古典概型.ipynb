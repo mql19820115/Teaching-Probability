{
 "cells": [
  {
   "cell_type": "code",
   "execution_count": 1,
   "metadata": {},
   "outputs": [],
   "source": [
    "##########################\n",
    "# 配置运行环境\n",
    "##########################\n",
    "\n",
    "%matplotlib inline\n",
    "\n",
    "import numpy as np\n",
    "import pandas as pd\n",
    "from IPython.display import Math, Latex\n",
    "from matplotlib import pyplot\n",
    "import seaborn as sns\n",
    "\n",
    "# matplotlib 对中文的支持\n",
    "from matplotlib import font_manager\n",
    "cn_font = font_manager.FontProperties(fname='msyh.ttf', size=16)  # 网上支持中文\n",
    "\n",
    "from matplotlib import rcParams\n",
    "# rcParams['font.family'] = 'Microsoft YaHei'  # 本地支持中文\n",
    "\n",
    "# 保存为 pdf 格式\n",
    "rcParams['pdf.fonttype'] = 42\n",
    "rcParams['figure.figsize'] = (8,5)\n",
    "\n",
    "# Look pretty...\n",
    "from matplotlib import style\n",
    "style.use('ggplot')\n",
    "\n",
    "# 设置 numpy 的输出精度, 并且阻止使用科学记数法\n",
    "np.set_printoptions(precision=6, suppress=True)"
   ]
  },
  {
   "cell_type": "markdown",
   "metadata": {},
   "source": [
    "# 排列组合复习\n",
    "\n",
    "\n",
    "### 盒子模型\n",
    "\n",
    "研究将 3 个球放到 3 个盒子里的所有情况，我们考虑三个维度：\n",
    "- 维度 1：每个盒子中可放的球数。至多 1 个，或数量不限\n",
    "- 维度 2：球是否可辨。球有编号，或完全一样\n",
    "- 维度 3：盒子是否可辨。盒子有编号，或完全一样\n",
    "\n",
    "这三个维度的组合将问题分成了 8 种情况"
   ]
  },
  {
   "cell_type": "code",
   "execution_count": 2,
   "metadata": {},
   "outputs": [
    {
     "ename": "SyntaxError",
     "evalue": "invalid syntax (<ipython-input-2-9d43841f1a76>, line 16)",
     "output_type": "error",
     "traceback": [
      "\u001b[0;36m  File \u001b[0;32m\"<ipython-input-2-9d43841f1a76>\"\u001b[0;36m, line \u001b[0;32m16\u001b[0m\n\u001b[0;31m    print( \"总共有 {:d} 种不同的放法.\".format{len(cases)} )\u001b[0m\n\u001b[0m                                    ^\u001b[0m\n\u001b[0;31mSyntaxError\u001b[0m\u001b[0;31m:\u001b[0m invalid syntax\n"
     ]
    }
   ],
   "source": [
    "#############################################\n",
    "# 情形 1：每盒至多放一个球。球可辨。盒可辨。\n",
    "#############################################\n",
    "\n",
    "import itertools\n",
    "\n",
    "# 我们假定球上贴有 '♠️', '♥️', '♣️', '♦️'，盒子有编号 A, B, C。\n",
    "boxes = [ 'A', 'B', 'C' ]\n",
    "balls = [ '♣️', '♦️' ]\n",
    "\n",
    "print( \"情形 1 下，所有可能的放球方案如下\" )\n",
    "cases = [ dict( sorted( zip( permute_boxes, balls ) ) ) for permute_boxes in itertools.permutations( boxes ) ]\n",
    "\n",
    "# 输出结果\n",
    "[ print( item ) for item in cases ]\n",
    "print( \"总共有 {:d} 种不同的放法.\".format{len(cases)} )\n",
    "print()"
   ]
  },
  {
   "cell_type": "markdown",
   "metadata": {},
   "source": [
    "我们一般认为上述样本空间中的样本点都是等可能的"
   ]
  },
  {
   "cell_type": "code",
   "execution_count": null,
   "metadata": {},
   "outputs": [],
   "source": [
    "#############################################\n",
    "# 情形 2：每盒至多放一个球。球不可辨。盒可辨。\n",
    "#############################################\n",
    "\n",
    "# 我们假定球都是红色，盒子有编号 A, B, C。\n",
    "boxes = [ 'A', 'B', 'C' ]\n",
    "balls = [ '♣️', '♣️' ]\n",
    "\n",
    "print( \"情形 2 下，所有可能的放球方案如下\" )\n",
    "cases = [ dict( sorted( zip( permute_boxes, balls ) ) ) for permute_boxes in itertools.permutations( boxes ) ]\n",
    "\n",
    "# 输出结果\n",
    "[ print( item ) for item in cases ]\n",
    "print()\n",
    "\n",
    "print( \"去掉其中重复的，剩下的放球方案如下\" )\n",
    "no_duplicate_cases = []\n",
    "[ no_duplicate_cases.append( x ) for x in cases if x not in no_duplicate_cases ]\n",
    "\n",
    "# 输出结果\n",
    "[ print( item ) for item in no_duplicate_cases ]\n",
    "print( \"总共有 %d 种不同的放法.\" % len( no_duplicate_cases ) )\n",
    "print()"
   ]
  },
  {
   "cell_type": "code",
   "execution_count": null,
   "metadata": {},
   "outputs": [],
   "source": [
    "#############################################\n",
    "# 情形 3：每盒至多放一个球。球可辨。盒不可辨。\n",
    "#############################################\n",
    "\n",
    "# 我们假定球都是红色，盒子有编号 A, B, C。\n",
    "boxes = [ 'A', 'A', 'A' ]\n",
    "balls = [ '♣️', '♦️' ]\n",
    "\n",
    "print( \"情形 3 下，所有可能的放球方案如下\" )\n",
    "# 由于我们是以盒子作为字典的键，因此盒子不可辨时，不能使用字典结构，只能用元组.\n",
    "cases = [ sorted( list( zip( permute_boxes, balls ) ) ) for permute_boxes in itertools.permutations( boxes ) ]\n",
    "\n",
    "# 输出结果\n",
    "[ print( item ) for item in cases ]\n",
    "print()\n",
    "\n",
    "print( \"去掉其中重复的，剩下的放球方案如下\" )\n",
    "no_duplicate_cases = []\n",
    "[ no_duplicate_cases.append( x ) for x in cases if x not in no_duplicate_cases ]\n",
    "\n",
    "# 输出结果\n",
    "[ print( item ) for item in no_duplicate_cases ]\n",
    "print( \"总共有 %d 种不同的放法.\" % len( no_duplicate_cases ) )\n",
    "print()"
   ]
  },
  {
   "cell_type": "code",
   "execution_count": null,
   "metadata": {},
   "outputs": [],
   "source": [
    "#############################################\n",
    "# 情形 4：每盒至多放一个球。球不可辨。盒不可辨。\n",
    "#############################################\n",
    "\n",
    "# 显然，只有一种。\n",
    "\n",
    "\n",
    "print()\n",
    "\n",
    "\n",
    "#############################################\n",
    "# 情形 5：每盒球数不限。球可辨。盒可辨。\n",
    "#############################################\n",
    "\n",
    "boxes = [ 'A', 'B', 'C' ]\n",
    "balls = [ '♣️', '♦️' ]\n",
    "\n",
    "print( \"对于情形 5，首先，我们以各个颜色的球在哪个盒子里的形式给出所有不同的放法\" )\n",
    "\n",
    "# 每个球有 3 种放法，所有可能的放法就是每个球放法的 outer product\n",
    "\n",
    "cases = [ dict( sorted( zip( balls, permute_boxes ) ) ) for \n",
    "            permute_boxes in itertools.product( boxes, repeat=len( balls ) ) ]\n",
    "\n",
    "# 输出结果\n",
    "[ print( item ) for item in cases ]\n",
    "print( \"总共有 %d 种不同的放法.\" % len( cases ) )\n",
    "print()\n",
    "\n",
    "\n",
    "# 换一种表示形式\n",
    "\n",
    "print( \"我们也可以用每个盒子中都有哪些球的形式给出所有的可能放法\" )\n",
    "\n",
    "flip_cases = []\n",
    "\n",
    "for case in cases:\n",
    "    flip = {box: [] for box in boxes}   # 生成以盒子为键，空列表为值的字典\n",
    "\n",
    "    # 向列表中添加放入相应盒子的球\n",
    "    for key, value in case.items():\n",
    "        flip[value].append( key )\n",
    "    \n",
    "    flip_cases.append( flip )\n",
    "\n",
    "[ print( item ) for item in flip_cases ]\n",
    "print( \"总共有 %d 种不同的放法.\" % len( flip_cases ) )\n",
    "print()"
   ]
  },
  {
   "cell_type": "code",
   "execution_count": null,
   "metadata": {},
   "outputs": [],
   "source": [
    "#############################################\n",
    "# 情形 6：每盒球数不限。球不可辨。盒可辨。\n",
    "#############################################\n",
    "\n",
    "boxes = [ 'A', 'B', 'C' ]\n",
    "balls = [ '♣️', '♣️' ]\n",
    "\n",
    "print( \"对于情形 6，首先，我们以各个颜色的球在哪个盒子里的形式给出所有不同的放法\" )\n",
    "\n",
    "cases = [ list( sorted( zip( balls, permute_boxes ) ) ) for \n",
    "            permute_boxes in itertools.product( boxes, repeat=len( balls ) ) ]\n",
    "\n",
    "# 输出结果\n",
    "[ print( item ) for item in cases ]\n",
    "print()\n",
    "\n",
    "print( \"去掉其中重复的，剩下的放球方案如下\" )\n",
    "no_duplicate_cases = []\n",
    "[ no_duplicate_cases.append( case ) for case in cases if case not in no_duplicate_cases ]\n",
    "\n",
    "[ print( item ) for item in no_duplicate_cases ]\n",
    "print( \"总共有 %d 种不同的放法.\" % len( no_duplicate_cases ) )\n",
    "print()"
   ]
  },
  {
   "cell_type": "code",
   "execution_count": null,
   "metadata": {},
   "outputs": [],
   "source": [
    "# 换一种表示形式\n",
    "\n",
    "print( \"我们也可以用每个盒子中都有哪些球的形式给出所有的可能放法\" )\n",
    "\n",
    "flip_cases = []\n",
    "\n",
    "for case in cases:\n",
    "    flip = {box: [] for box in boxes}   # 生成以盒子为键，空列表为值的字典\n",
    "\n",
    "    # 向列表中添加放入相应盒子的球\n",
    "    for item in case:\n",
    "        flip[item[1]].append( item[0] )\n",
    "    \n",
    "    flip_cases.append( flip )\n",
    "\n",
    "[ print( item ) for item in flip_cases ]\n",
    "print()\n",
    "\n",
    "print( \"去掉其中重复的，剩下的放球方案如下\" )\n",
    "no_duplicate_cases = []\n",
    "[ no_duplicate_cases.append( case ) for case in cases if case not in no_duplicate_cases ]\n",
    "\n",
    "[ print( item ) for item in no_duplicate_cases ]\n",
    "print( \"总共有 %d 种不同的放法.\" % len( no_duplicate_cases ) )\n",
    "print()"
   ]
  },
  {
   "cell_type": "code",
   "execution_count": null,
   "metadata": {},
   "outputs": [],
   "source": [
    "# 情形 7：每盒球数不限。球可辨。盒不可辨。"
   ]
  },
  {
   "cell_type": "code",
   "execution_count": null,
   "metadata": {},
   "outputs": [],
   "source": [
    "# 情形 8：每盒球数不限。球不可辨。盒子亦不可辨。"
   ]
  },
  {
   "cell_type": "markdown",
   "metadata": {},
   "source": [
    "# 古典概型计算\n",
    "\n",
    "### 例 生日问题"
   ]
  },
  {
   "cell_type": "code",
   "execution_count": null,
   "metadata": {},
   "outputs": [],
   "source": [
    "def sameBirthdayProbs(n):\n",
    "    return 1 - np.exp(-(n * (n-1) / 730))\n",
    "\n",
    "for i in range(5, 71, 10):\n",
    "    print('人数为 {:d} 人的班级，有同学同一天过生日的概率为 {:.5f}'.format(i, sameBirthdayProbs(i)))\n",
    "\n",
    "x = np.arange(2, 100)\n",
    "pyplot.plot(x, sameBirthdayProbs(x))"
   ]
  },
  {
   "cell_type": "markdown",
   "metadata": {},
   "source": [
    "下面我们模拟一下"
   ]
  },
  {
   "cell_type": "code",
   "execution_count": null,
   "metadata": {},
   "outputs": [],
   "source": [
    "import random\n",
    "from collections import Counter\n",
    "\n",
    "def simBirthdayProblem(m: int, n: int):\n",
    "    \"\"\"\n",
    "    \n",
    "    m: 班级数量\n",
    "    n: 班级人数\n",
    "    \"\"\"\n",
    "    for k in range(m):\n",
    "        birthdays = [random.choice(range(1, 366)) for i in range(n)]\n",
    "        \n",
    "        # 统计有相同生日的日子的情况\n",
    "        counting = [(day, num) for day, num in Counter(birthdays).most_common() if num > 1]\n",
    "        \n",
    "        print('{} 班同学的生日情况如下 {}，其中有 {} 天有一个以上的同学过生日，分别为 {}.'.format(k, birthdays, len(counting), counting))\n",
    "        print()"
   ]
  },
  {
   "cell_type": "code",
   "execution_count": null,
   "metadata": {},
   "outputs": [],
   "source": [
    "simBirthdayProblem(10, 30)"
   ]
  },
  {
   "cell_type": "markdown",
   "metadata": {},
   "source": [
    "# 概率模型下事件发生的概率\n",
    "\n",
    "在 Python 中我们用字典存储一个样本空间及其各个样本点的概率，称为一个概率模型. 例如\n",
    "```\n",
    "{'hearts': 0, 'clubs': 0.4, 'diamonds': 0.7, 'spades': 0.2}\n",
    "```\n",
    "其中 key 是样本空间中的样本点，value 是样本点的概率."
   ]
  },
  {
   "cell_type": "code",
   "execution_count": null,
   "metadata": {},
   "outputs": [],
   "source": [
    "# 掷一枚公平骰子的模型\n",
    "fair_die_model = {i: 1/6 for i in range(1, 7)}\n",
    "\n",
    "# 掷两枚公平骰子的模型\n",
    "two_fair_dice_model = {(i, j) : 1/36 for i in range(1, 7) for j in range(1, 7)}"
   ]
  },
  {
   "cell_type": "markdown",
   "metadata": {},
   "source": [
    "事件是样本空间的子集，求事件的概率只需将事件包含的样本点的概率相加即可"
   ]
  },
  {
   "cell_type": "code",
   "execution_count": null,
   "metadata": {},
   "outputs": [],
   "source": [
    "def probOfEvent(event: set, model: dict) -> float:\n",
    "    \"\"\"\n",
    "    返回随机事件的概率\n",
    "    \n",
    "    event: 随机事件包含的样本点集合\n",
    "    model: 随机模型，是一个字典对象，key 为样本点，value 为样本点的概率 \n",
    "    \"\"\"\n",
    "    return sum([model[e] for e in event])"
   ]
  },
  {
   "cell_type": "markdown",
   "metadata": {},
   "source": [
    "例如，我们在掷两枚骰子这一随机模型下，求事件 ''掷出的点数和为 7 点'' 的概率。"
   ]
  },
  {
   "cell_type": "code",
   "execution_count": null,
   "metadata": {},
   "outputs": [],
   "source": [
    "# 掷出的点数和为 7 点\n",
    "event = {(x, y) for x, y in two_fair_dice_model.keys() if x + y == 7}\n",
    "\n",
    "# 概率\n",
    "print(probOfEvent(event, two_fair_dice_model))"
   ]
  },
  {
   "cell_type": "markdown",
   "metadata": {},
   "source": [
    "再比如，我们在天气模型下，求明天下雨或下雪的概率。"
   ]
  },
  {
   "cell_type": "code",
   "execution_count": null,
   "metadata": {},
   "outputs": [],
   "source": [
    "weather_model = {'sunny': 1/2, 'rainy': 1/6, 'snowy': 1/3}\n",
    "\n",
    "event = {'rainy', 'snowy'}\n",
    "\n",
    "print(probOfEvent(event, weather_model))"
   ]
  },
  {
   "cell_type": "code",
   "execution_count": null,
   "metadata": {},
   "outputs": [],
   "source": []
  }
 ],
 "metadata": {
  "kernelspec": {
   "display_name": "Python 3",
   "language": "python",
   "name": "python3"
  },
  "language_info": {
   "codemirror_mode": {
    "name": "ipython",
    "version": 3
   },
   "file_extension": ".py",
   "mimetype": "text/x-python",
   "name": "python",
   "nbconvert_exporter": "python",
   "pygments_lexer": "ipython3",
   "version": "3.7.2"
  }
 },
 "nbformat": 4,
 "nbformat_minor": 1
}
