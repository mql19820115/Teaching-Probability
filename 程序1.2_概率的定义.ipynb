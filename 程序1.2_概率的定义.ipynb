{
 "cells": [
  {
   "cell_type": "markdown",
   "metadata": {},
   "source": [
    "### 例 德·梅耳问题\n",
    "\n",
    "17 世纪中叶，法国有一位热衷于掷骰子游戏的贵族德·梅耳发现：将一枚骰子连掷四次至少出现一个六点的机会比较多，而同时将两枚骰子掷 24 次，至少出现一次双六的机会却比较少。这是什么原因呢?\n",
    "\n",
    "帕斯卡回答：掷一对骰子出现双六的概率是 1/36，不出现双六的概率 是35/36。而掷一对骰子25次，出现双六的概率并不是 25/36，而是 0.50553，不出现双六的概率是 0.49447。"
   ]
  },
  {
   "cell_type": "code",
   "execution_count": null,
   "metadata": {},
   "outputs": [],
   "source": [
    "import random\n",
    "\n",
    "def rollDie():\n",
    "    \"\"\"\n",
    "    模拟投掷一次骰子，返回一个点数\n",
    "    \"\"\"\n",
    "    return random.choice( [1, 2, 3, 4, 5, 6] )\n",
    "\n",
    "\n",
    "def checkPascal( numTrials, roll ):\n",
    "    yes = 0.0\n",
    "    for i in range(numTrials):\n",
    "        for j in range(24):\n",
    "            d1 = roll()\n",
    "            d2 = roll()\n",
    "            if d1 == 6 and d2 == 6:\n",
    "                yes += 1\n",
    "                break\n",
    "    print( 'Probability of losing =', 1.0 - yes/numTrials )\n",
    "\n",
    "\n",
    "\n",
    "checkPascal(10000, rollDie)"
   ]
  },
  {
   "cell_type": "markdown",
   "metadata": {},
   "source": [
    "### 例 作弊的骰子\n",
    "\n",
    "人们在庞贝古城中发现一些空心的骰子，由于质量不均匀，这些骰子各面朝上的概率不相等。鹿鼎记中韦小宝就用灌了水银的空心骰子作弊。我们尝试玩一个作弊的骰子。"
   ]
  },
  {
   "cell_type": "code",
   "execution_count": null,
   "metadata": {},
   "outputs": [],
   "source": [
    "def rollLoadedDie():\n",
    "    if random.random() < 1.0/5.5:\n",
    "        return 6\n",
    "    else:\n",
    "        return random.choice([1,2,3,4,5])\n",
    "\n",
    "\n",
    "#checkPascal(10000, rollLoadedDie)"
   ]
  },
  {
   "cell_type": "code",
   "execution_count": null,
   "metadata": {},
   "outputs": [],
   "source": []
  }
 ],
 "metadata": {
  "kernelspec": {
   "display_name": "Python 3",
   "language": "python",
   "name": "python3"
  },
  "language_info": {
   "codemirror_mode": {
    "name": "ipython",
    "version": 3
   },
   "file_extension": ".py",
   "mimetype": "text/x-python",
   "name": "python",
   "nbconvert_exporter": "python",
   "pygments_lexer": "ipython3",
   "version": "3.7.2"
  }
 },
 "nbformat": 4,
 "nbformat_minor": 1
}
