{
 "cells": [
  {
   "cell_type": "markdown",
   "metadata": {},
   "source": [
    "# 1 全概率公式"
   ]
  },
  {
   "cell_type": "code",
   "execution_count": null,
   "metadata": {},
   "outputs": [],
   "source": [
    "%matplotlib inline\n",
    "\n",
    "# matplotlib 对中文的支持及保存为 pdf 格式\n",
    "from matplotlib import rcParams\n",
    "rcParams['font.family'] = 'Microsoft YaHei'\n",
    "rcParams[\"pdf.fonttype\"] = 42\n",
    "\n",
    "# Look pretty...\n",
    "from matplotlib import style\n",
    "style.use('ggplot')\n",
    "\n",
    "# 设置 numpy 的输出精度, 并且阻止使用科学记数法，\n",
    "# formatter 参数允许为每个类型指定一个格式化函数\n",
    "np.set_printoptions( precision=3, suppress=True )"
   ]
  },
  {
   "cell_type": "markdown",
   "metadata": {},
   "source": [
    "### 例 1\n",
    "\n",
    "某同学每周上一次概率课，每次上完课后，他可能跟的上，也可能跟不上. 如果某一周的课他能跟的上，那么下一周的课他跟的上的概率为 0.8；如果跟不上，那么下一周的课他跟的上的概率为 0.3. 现在假定第一周上课前他能够跟的上课程，那么经过 n 周的学习，他能够跟上的概率有多大?"
   ]
  },
  {
   "cell_type": "code",
   "execution_count": null,
   "metadata": {},
   "outputs": [],
   "source": [
    "####################\n",
    "# 方法1: 递归方式\n",
    "####################\n",
    "\n",
    "def masterProb(n, prob1, prob2, initial_prob):\n",
    "    \"\"\"    \n",
    "    n: 第 n 次课\n",
    "    prob1: 在前一次课跟的上的情况下，第 n 次课跟的上的概率\n",
    "    prob2: 在前一次课跟不上的情况下，第 n 次课跟的上的概率\n",
    "    initial_prob: 第一次上课前跟的上的概率\n",
    "    \"\"\"\n",
    "    if n == 1:\n",
    "        return prob1 * initial_prob + prob2 * (1 - initial_prob)\n",
    "    else:\n",
    "        return prob1 * masterProb(n-1, prob1, prob2, initial_prob) + prob2 * (1 - masterProb(n-1, prob1, prob2, initial_prob))"
   ]
  },
  {
   "cell_type": "code",
   "execution_count": null,
   "metadata": {
    "scrolled": true
   },
   "outputs": [],
   "source": [
    "for n in range(1,20):\n",
    "    print('第 {0} 次课后跟的上的概率为 {1:.5f}.'.format(n, masterProb(n, 0.8, 0.3, 1)))"
   ]
  },
  {
   "cell_type": "markdown",
   "metadata": {},
   "source": [
    "递归程序的运行效率很低，因此我们采用下面第二种方法：概率转移矩阵. 令 $A_i$ 表示第 $i$ 次课后跟的上. 那么\n",
    "\n",
    "$$\n",
    "\\left(\\begin{array}{c}\n",
    "P(A_{i+1}) \\\\\n",
    "P(\\bar{A}_{i+1})\n",
    "\\end{array}\\right) = \n",
    "\\left(\\begin{array}{c}\n",
    "P(A_{i+1}|A_i) & P(A_{i+1}|\\bar{A}_i) \\\\\n",
    "P(\\bar{A}_{i+1}|A_i) & P(\\bar{A}_{i+1}|\\bar{A}_i)\n",
    "\\end{array}\\right)\n",
    "\\left(\\begin{array}{c}\n",
    "P(A_{i}) \\\\\n",
    "P(\\bar{A}_{i})\n",
    "\\end{array}\\right)\n",
    "$$\n",
    "\n",
    "其中 $\\left(\\begin{array}{c}\n",
    "P(A_{i+1}|A_i) & P(A_{i+1}|\\bar{A}_i) \\\\\n",
    "P(\\bar{A}_{i+1}|A_i) & P(\\bar{A}_{i+1}|\\bar{A}_i)\n",
    "\\end{array}\\right) = \\left(\\begin{array}{c}\n",
    "0.8 & 0.4 \\\\\n",
    "0.2 & 0.6\n",
    "\\end{array}\\right)$, $\\left(\\begin{array}{c}\n",
    "P(A_{0}) \\\\\n",
    "P(\\bar{A}_{0})\n",
    "\\end{array}\\right) = \\left(\\begin{array}{c}\n",
    "1 \\\\\n",
    "0\n",
    "\\end{array}\\right)$."
   ]
  },
  {
   "cell_type": "code",
   "execution_count": null,
   "metadata": {},
   "outputs": [],
   "source": [
    "####################\n",
    "# 方法2: 概率转移矩阵\n",
    "####################\n",
    "\n",
    "import numpy as np\n",
    "\n",
    "# 初始概率分布，第一次课前跟得上的概率分布\n",
    "# 用一个二维列向量表示，第一个元素表示跟得上的概率，\n",
    "# 第二个元素表示跟不上的元素\n",
    "initial_dist = np.array([1,0])\n",
    "\n",
    "# 概率转移矩阵，表示第 i+1 次课能否听懂和第 i 次课的关系\n",
    "# 用一个 2 * 2 矩阵表示，其中第 (i, j) 个元素表示在第 i 行的结果发生的情况下第 j 列的结果发生的概率\n",
    "tranfer_matrix = np.array([[0.8,0.3],[0.2,0.7]])\n",
    "\n",
    "# 经过 n 次后的结果，二维向量的第一个元素表示跟得上的概率，\n",
    "# 第二个元素表示跟不上的元素\n",
    "next_dist = initial_dist\n",
    "for i in range(1, 30):    \n",
    "    next_dist = np.dot(tranfer_matrix, next_dist)\n",
    "    print('第 {0} 次课后跟的上的概率为 {1:.5f}.'.format(i, next_dist[0]))"
   ]
  },
  {
   "cell_type": "markdown",
   "metadata": {},
   "source": [
    "### 例 2 三门问题\n",
    "\n",
    "美国电视节目中经常出现如下情形：你站在 3 个封闭的门前，其中一个门后有大奖. 奖品在哪个门后是完全随机的. 当你选定一个门后，主持人打开其余两扇门中的一扇空门，然后说：你还有一次重新选择的机会，是否要改主意选另一扇没有被打开的门. 你会如何选择？\n",
    "- 坚持原来的选择.\n",
    "- 改选另一扇没有被打开的门.\n",
    "- 无所谓，改变不改变没有影响."
   ]
  },
  {
   "cell_type": "code",
   "execution_count": null,
   "metadata": {
    "scrolled": false
   },
   "outputs": [],
   "source": [
    "import pylab\n",
    "import random\n",
    "\n",
    "def openEmptyDoor(guess_door, prize_door):\n",
    "    \"\"\"\n",
    "    定义主持人打开一扇空门的方法\n",
    "    \n",
    "    在奖品已经放在某个门的后面，且选手已经做出选择的情况下。\n",
    "    若选手猜的不是放奖品的门，在打开另一扇空门。\n",
    "    若选手猜的是放奖品的门，则在两扇空门中随机打开一扇。\n",
    "    \"\"\"\n",
    "    if guess_door == prize_door:\n",
    "        randomChoose(prize_door)\n",
    "    else:\n",
    "        if 1 != guess_door and 1 != prize_door:\n",
    "            return 1\n",
    "        if 2 != guess_door and 2 != prize_door:\n",
    "            return 2\n",
    "        return 3\n",
    "\n",
    "def randomChoose(door):\n",
    "    \"\"\"\n",
    "    从给定号码以为的号码中随机选一个\n",
    "    \"\"\"\n",
    "    if door == 1:\n",
    "        return random.choice([2,3])\n",
    "    if door == 2:\n",
    "        return random.choice([1,3])\n",
    "    return random.choice([1,2])\n",
    "\n",
    "def simMontyHall(num_trials):\n",
    "    \n",
    "    # 记录不改变决定取胜的次数和改变决定取胜的次数\n",
    "    stick_wins, switch_wins = (0, 0)\n",
    "\n",
    "    for t in range(num_trials):\n",
    "        # 随机放置奖品\n",
    "        prize_door = random.choice([1, 2, 3])\n",
    "        \n",
    "        # 随机猜一个门\n",
    "        guess_door = random.choice([1, 2, 3])\n",
    "        \n",
    "        # 主持人打开一扇门\n",
    "        open_empty_door = openEmptyDoor(guess_door, prize_door)\n",
    "        \n",
    "        if guess_door == prize_door:  # 不改变决定\n",
    "            stick_wins += 1\n",
    "        else:  # 当你猜的和奖品所在的门不一样时，只有改变决定才能获奖\n",
    "            switch_wins += 1\n",
    "    return (stick_wins, switch_wins)\n",
    "\n",
    "\n",
    "def displayMHSim(sim_results, title):\n",
    "    stick_wins, switch_wins = sim_results\n",
    "    pylab.pie([stick_wins, switch_wins],\n",
    "              colors = ['r', 'c'],\n",
    "              labels = ['保持不变', '改变决定'],\n",
    "              autopct = '%.2f%%')\n",
    "    pylab.title(title)\n",
    "\n",
    "sim_results = simMontyHall(100000)\n",
    "displayMHSim(sim_results, 'Monty Hall 问题模拟')\n",
    "pylab.figure()"
   ]
  },
  {
   "cell_type": "markdown",
   "metadata": {},
   "source": [
    "# 2 贝叶斯公式"
   ]
  },
  {
   "cell_type": "markdown",
   "metadata": {},
   "source": [
    "### 例 猜骰子游戏\n",
    "\n",
    "我们有三枚公平的骰子，一枚正六面的、一枚正八面的、一枚正十二面的.\n",
    "我们随机从中抽一枚，请你猜我抽出的是哪一枚？我通过不断告诉你我用\n",
    "抽出的骰子进行投掷结果."
   ]
  },
  {
   "cell_type": "code",
   "execution_count": 1,
   "metadata": {
    "scrolled": true
   },
   "outputs": [],
   "source": [
    "import numpy as np\n",
    "import pandas as pd\n",
    "\n",
    "def update(points, priori_dist, conditional_matrix):\n",
    "    \"\"\"\n",
    "    输入先验分布和新信息，输出后验分布\n",
    "    \n",
    "    points: 掷得的点数\n",
    "    priori_dist: 抽到各个骰子的概率的先验分布，是一个 np 数组.\n",
    "    conditional_matrix: 在抽到某个骰子的情况下，掷出各个点的概率，\n",
    "            存储为 pd.DataFrame，每一列存储一个骰子掷出各个点的概率\n",
    "            每一行表示用各个骰子掷出当前行的点数的概率\n",
    "    \"\"\"\n",
    "    \n",
    "    # 读取各个骰子掷出 dice_points 的条件概率，需要转化为 np 对象\n",
    "    conditional_array = conditional_matrix.loc[points].values\n",
    "    \n",
    "    # 根据全概率公式计算在给定抽到各个骰子的概率先验分布下，掷出当前点数的概率\n",
    "    points_prob = np.dot(priori_dist, conditional_array)\n",
    "    \n",
    "    # 更新后验分布\n",
    "    return (priori_dist * conditional_array) / points_prob"
   ]
  },
  {
   "cell_type": "code",
   "execution_count": 2,
   "metadata": {},
   "outputs": [
    {
     "data": {
      "text/html": [
       "<div>\n",
       "<style scoped>\n",
       "    .dataframe tbody tr th:only-of-type {\n",
       "        vertical-align: middle;\n",
       "    }\n",
       "\n",
       "    .dataframe tbody tr th {\n",
       "        vertical-align: top;\n",
       "    }\n",
       "\n",
       "    .dataframe thead th {\n",
       "        text-align: right;\n",
       "    }\n",
       "</style>\n",
       "<table border=\"1\" class=\"dataframe\">\n",
       "  <thead>\n",
       "    <tr style=\"text-align: right;\">\n",
       "      <th></th>\n",
       "      <th>dice6</th>\n",
       "      <th>dice8</th>\n",
       "      <th>dice12</th>\n",
       "    </tr>\n",
       "  </thead>\n",
       "  <tbody>\n",
       "    <tr>\n",
       "      <th>1</th>\n",
       "      <td>0.166667</td>\n",
       "      <td>0.125</td>\n",
       "      <td>0.083333</td>\n",
       "    </tr>\n",
       "    <tr>\n",
       "      <th>2</th>\n",
       "      <td>0.166667</td>\n",
       "      <td>0.125</td>\n",
       "      <td>0.083333</td>\n",
       "    </tr>\n",
       "    <tr>\n",
       "      <th>3</th>\n",
       "      <td>0.166667</td>\n",
       "      <td>0.125</td>\n",
       "      <td>0.083333</td>\n",
       "    </tr>\n",
       "    <tr>\n",
       "      <th>4</th>\n",
       "      <td>0.166667</td>\n",
       "      <td>0.125</td>\n",
       "      <td>0.083333</td>\n",
       "    </tr>\n",
       "    <tr>\n",
       "      <th>5</th>\n",
       "      <td>0.166667</td>\n",
       "      <td>0.125</td>\n",
       "      <td>0.083333</td>\n",
       "    </tr>\n",
       "  </tbody>\n",
       "</table>\n",
       "</div>"
      ],
      "text/plain": [
       "      dice6  dice8    dice12\n",
       "1  0.166667  0.125  0.083333\n",
       "2  0.166667  0.125  0.083333\n",
       "3  0.166667  0.125  0.083333\n",
       "4  0.166667  0.125  0.083333\n",
       "5  0.166667  0.125  0.083333"
      ]
     },
     "execution_count": 2,
     "metadata": {},
     "output_type": "execute_result"
    }
   ],
   "source": [
    "priori_dist = np.array([1/3, 1/3, 1/3])\n",
    "\n",
    "conditional_matrix = pd.DataFrame({\n",
    "    'dice6': [1/6,1/6,1/6,1/6,1/6,1/6,0,0,0,0,0,0], \n",
    "    'dice8': [1/8,1/8,1/8,1/8,1/8,1/8,1/8,1/8,0,0,0,0],\n",
    "    'dice12': [1/12,1/12,1/12,1/12,1/12,1/12,1/12,1/12,1/12,1/12,1/12,1/12]},\n",
    "    index=[str(i) for i in range(1, 13)])\n",
    "\n",
    "conditional_matrix.head()"
   ]
  },
  {
   "cell_type": "code",
   "execution_count": null,
   "metadata": {},
   "outputs": [
    {
     "name": "stdout",
     "output_type": "stream",
     "text": [
      "输入任意字母，程序退出。\n",
      "请输入掷出的点数：3\n",
      "各个骰子掷出 3 点的可能性分别为 [0.44444444 0.33333333 0.22222222].\n",
      "请输入掷出的点数：15\n",
      "请输入正确的点数\n",
      "请输入掷出的点数：12\n",
      "各个骰子掷出 12 点的可能性分别为 [0. 0. 1.].\n",
      "请输入掷出的点数：3\n",
      "各个骰子掷出 3 点的可能性分别为 [0. 0. 1.].\n",
      "请输入掷出的点数：0\n",
      "请输入正确的点数\n",
      "请输入掷出的点数：6\n",
      "各个骰子掷出 6 点的可能性分别为 [0. 0. 1.].\n"
     ]
    }
   ],
   "source": [
    "posterior_dist = priori_dist\n",
    "\n",
    "points = '0'\n",
    "\n",
    "print('输入任意字母，程序退出。')\n",
    "while(points.isdigit()):\n",
    "    points = input('请输入掷出的点数：')\n",
    "    \n",
    "    # 判断输入的点数是否在正确范围，不在范围直接退出\n",
    "    if not (points.isdigit() and 0 < int(points) < 13):\n",
    "        print('请输入正确的点数')\n",
    "        continue\n",
    "        \n",
    "    posterior_dist = update(points, posterior_dist, conditional_matrix)\n",
    "    print('各个骰子掷出 {} 点的可能性分别为 {}.'.format(points, str(posterior_dist)))"
   ]
  },
  {
   "cell_type": "code",
   "execution_count": null,
   "metadata": {},
   "outputs": [],
   "source": []
  }
 ],
 "metadata": {
  "kernelspec": {
   "display_name": "Python 3",
   "language": "python",
   "name": "python3"
  },
  "language_info": {
   "codemirror_mode": {
    "name": "ipython",
    "version": 3
   },
   "file_extension": ".py",
   "mimetype": "text/x-python",
   "name": "python",
   "nbconvert_exporter": "python",
   "pygments_lexer": "ipython3",
   "version": "3.7.2"
  }
 },
 "nbformat": 4,
 "nbformat_minor": 1
}
