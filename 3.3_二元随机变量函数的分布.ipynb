{
 "cells": [
  {
   "cell_type": "code",
   "execution_count": 1,
   "metadata": {},
   "outputs": [],
   "source": [
    "##########################\n",
    "# 配置运行环境\n",
    "##########################\n",
    "\n",
    "%matplotlib inline\n",
    "\n",
    "import numpy as np\n",
    "import pandas as pd\n",
    "from matplotlib import pyplot\n",
    "\n",
    "# matplotlib 对中文的支持及保存为 pdf 格式\n",
    "from matplotlib import font_manager\n",
    "cn_font = font_manager.FontProperties(fname='msyh.ttf', size=16)  # 网上支持中文\n",
    "\n",
    "from matplotlib import rcParams\n",
    "# rcParams['font.family'] = 'Microsoft YaHei'  # 本地支持中文\n",
    "rcParams['pdf.fonttype'] = 42\n",
    "rcParams['figure.figsize'] = (8, 5)\n",
    "\n",
    "# Look pretty...\n",
    "from matplotlib import style\n",
    "style.use('ggplot')\n",
    "\n",
    "# 设置 numpy 的输出精度, 并且阻止使用科学记数法\n",
    "np.set_printoptions(precision=6, suppress=True)"
   ]
  },
  {
   "cell_type": "markdown",
   "metadata": {},
   "source": [
    "# 离散分布的卷积\n",
    "\n",
    "离散分布的卷积公式\n",
    "\n",
    "设随机变量 $X$, $Y$ 的分布列分别为 $p_X(x_i)$ 和 $p_Y(y_j)$.\n",
    "$$\n",
    "(p_X \\ast p_Y)(t_k) = p_X(t_k - y_j) p_Y(y_j)\n",
    "$$"
   ]
  },
  {
   "cell_type": "markdown",
   "metadata": {},
   "source": [
    "# 连续分布的卷积\n",
    "\n",
    "$$\n",
    "(f \\ast g)(x) = \\int_{-\\infty}^{+\\infty} f(x - t)g(t) d t\n",
    "$$"
   ]
  },
  {
   "cell_type": "code",
   "execution_count": 28,
   "metadata": {},
   "outputs": [],
   "source": [
    "f = lambda x: np.where((x >= 0)&(x <= 1), 1, 0)\n",
    "g = lambda x: np.where(x > 0, np.exp(-2*t), 0)\n",
    "flip = lambda x, t: f(x - t)\n",
    "product = lambda t: f(x - t) * g(t)"
   ]
  },
  {
   "cell_type": "code",
   "execution_count": 33,
   "metadata": {},
   "outputs": [
    {
     "data": {
      "text/plain": [
       "[<matplotlib.lines.Line2D at 0x118bbc048>]"
      ]
     },
     "execution_count": 33,
     "metadata": {},
     "output_type": "execute_result"
    },
    {
     "data": {
      "image/png": "[encoded data removed]",
      "text/plain": [
       "<Figure size 432x288 with 1 Axes>"
      ]
     },
     "metadata": {
      "needs_background": "light"
     },
     "output_type": "display_data"
    }
   ],
   "source": [
    "x = np.arange(-5, 5, 0.01)\n",
    "\n",
    "pyplot.plot(x, f(x), label='$f_1(t)$')\n",
    "pyplot.plot(x, g(x), label='$f_2(t)$')"
   ]
  },
  {
   "cell_type": "code",
   "execution_count": 34,
   "metadata": {
    "scrolled": true
   },
   "outputs": [
    {
     "data": {
      "image/png": "[encoded data removed]",
      "text/plain": [
       "<Figure size 432x288 with 1 Axes>"
      ]
     },
     "metadata": {
      "needs_background": "light"
     },
     "output_type": "display_data"
    }
   ],
   "source": [
    "pyplot.figure()\n",
    "pyplot.plot(x, f(x), label=r'$f(t)$')\n",
    "pyplot.plot(x, g(x), label=r'$g(t)$')\n",
    "pyplot.plot(x, flip(2, x), label=r'$f(x-t)$')\n",
    "pyplot.plot(x, product(x), label=r'$f(x-t)g(t)$')\n",
    "pyplot.show()"
   ]
  },
  {
   "cell_type": "code",
   "execution_count": null,
   "metadata": {},
   "outputs": [],
   "source": [
    "def showConvolution(f, g, x):\n",
    "    # 利用数值积分计算各个卷积值\n",
    "    convolution = np.zeros(len(x))\n",
    "    for n, t in enumerate(x):\n",
    "        prod = lambda tau: f1(tau) * f2(t_-tau)\n",
    "        convolution[n] = scipy.integrate.simps(prod(t), t)\n",
    "    \n",
    "    # Create the shifted and flipped function\n",
    "    f_shift = lambda t: f2(t0-t)\n",
    "    prod = lambda tau: f1(tau) * f2(t0-tau)\n",
    "\n",
    "    # Plot the curves\n",
    "    \n",
    "    plt.subplot(211)\n",
    "    plt.plot(t, f1(t), label=r'$f_1(\\tau)$')\n",
    "    plt.plot(t, f_shift(t), label=r'$f_2(t_0-\\tau)$')\n",
    "    plt.plot(t, prod(t), 'r-', label=r'$f_1(\\tau)f_2(t_0-\\tau)$')\n",
    "    \n",
    "    # plot the convolution curve\n",
    "    plt.subplot(212)\n",
    "    plt.plot(t, convolution, label='$(f_1*f_2)(t)$')\n",
    "    \n",
    "    # recalculate the value of the convolution integral at the current time-shift t0\n",
    "    current_value = scipy.integrate.simps(prod(t), t)\n",
    "    plt.plot(t0, current_value, 'ro')  # plot the point"
   ]
  },
  {
   "cell_type": "code",
   "execution_count": 2,
   "metadata": {},
   "outputs": [],
   "source": [
    "# 调用 Mathematica\n",
    "from wolframclient.evaluation import WolframLanguageSession\n",
    "from wolframclient.language import wl, wlexpr\n",
    "session = WolframLanguageSession()"
   ]
  }
 ],
 "metadata": {
  "kernelspec": {
   "display_name": "Python 3",
   "language": "python",
   "name": "python3"
  },
  "language_info": {
   "codemirror_mode": {
    "name": "ipython",
    "version": 3
   },
   "file_extension": ".py",
   "mimetype": "text/x-python",
   "name": "python",
   "nbconvert_exporter": "python",
   "pygments_lexer": "ipython3",
   "version": "3.7.2"
  }
 },
 "nbformat": 4,
 "nbformat_minor": 1
}
