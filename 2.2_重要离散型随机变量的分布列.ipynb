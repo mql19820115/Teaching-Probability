{
 "cells": [
  {
   "cell_type": "code",
   "execution_count": null,
   "metadata": {},
   "outputs": [],
   "source": [
    "%matplotlib inline\n",
    "\n",
    "import numpy as np\n",
    "import pandas as pd\n",
    "import matplotlib\n",
    "from matplotlib import pyplot\n",
    "\n",
    "# matplotlib 对中文的支持及保存为 pdf 格式\n",
    "from matplotlib import rcParams\n",
    "\n",
    "matplotlib.font_manager.FontProperties(fname='msyh.ttf') #定义字体\n",
    "rcParams['font.family'] = 'Microsoft YaHei'\n",
    "rcParams['pdf.fonttype'] = 42\n",
    "\n",
    "# Look pretty...\n",
    "from matplotlib import style\n",
    "style.use('ggplot')"
   ]
  },
  {
   "cell_type": "markdown",
   "metadata": {},
   "source": [
    "# 二项分布\n",
    "\n",
    "我们用 `scipy.stats` 包中的 `binom` 对象生成一个二项分布随机变量。`binom` 对象是 `rv_discrete` 类的一个实例，它根据二项分布的定义实现了 `rv_discrete` 类中的抽象方法。\n",
    "\n",
    "binom 中概率密度函数的定义如下:\n",
    "```\n",
    "binom.pmf(k) = choose(n, k) * p**k * (1-p)**(n-k)\n",
    "```\n",
    "其中 `k in {0, 1,..., n}`， `n` 和 `p` 是二项分布的形状参数."
   ]
  },
  {
   "cell_type": "code",
   "execution_count": null,
   "metadata": {},
   "outputs": [],
   "source": [
    "from scipy.stats import binom\n",
    "\n",
    "n, p = 5, 0.4       # 二项分布的参数\n",
    "size = 10           # 生成的随机数的个数\n",
    "brv = binom(n, p)   # 定义一个服从参数为 n, p 的二项分布的随机变量\n",
    "print(\"随机生成 {} 个服从参数为 n={}, p={} 的服从二项分布的随机数：{}\".format(size, n, p, brv.rvs(size)))"
   ]
  },
  {
   "cell_type": "code",
   "execution_count": null,
   "metadata": {},
   "outputs": [],
   "source": [
    "# 下面我们画二项分布的密度函数\n",
    "fig = pyplot.figure(figsize=(8, 6))\n",
    "\n",
    "x = range(n + 1)\n",
    "\n",
    "# 注意二项分布的密度函数可以写成 brv.pmf(x), 也可以写成 binom.pmf(x,n,p)\n",
    "pyplot.plot( x, brv.pmf( x ), 'bo', ms=8, label='二项分布的分布列' )\n",
    "pyplot.vlines( x, 0, brv.pmf( x ), colors='b', lw=5, alpha=0.5 )\n",
    "\n",
    "# 画图范围\n",
    "pyplot.xlim( -1, n+1 )\n",
    "pyplot.ylim( 0, 0.4)\n",
    "\n",
    "pyplot.title('二项分布的分布列', fontproperties=cnfont)\n",
    "pyplot.xlabel('取值', fontproperties=cnfont)\n",
    "pyplot.ylabel('概率', fontproperties=cnfont)\n",
    "pyplot.show()"
   ]
  },
  {
   "cell_type": "code",
   "execution_count": null,
   "metadata": {},
   "outputs": [],
   "source": [
    "# 下面我们在画一下二项分布的分布函数\n",
    "fig2 = pyplot.figure( figsize=(8, 6) )\n",
    "\n",
    "# 注意二项分布的分布函数可以写成 brv.cdf(x), 也可以写成 binom.cdf(x,n,p)\n",
    "pyplot.plot( x, brv.cdf( x ), 'ro', ms=8, label='二项分布的累积分布函数' )\n",
    "pyplot.vlines( x, 0, brv.cdf( x ), colors='r', lw=5, alpha=0.5 )\n",
    "\n",
    "# 画图范围\n",
    "pyplot.xlim( -1, n+1 )\n",
    "pyplot.ylim( -0.1, 1.1)\n",
    "\n",
    "pyplot.title('二项分布的累积分布函数')\n",
    "pyplot.xlabel('取值')\n",
    "pyplot.ylabel('概率')\n",
    "pyplot.show()"
   ]
  },
  {
   "cell_type": "markdown",
   "metadata": {},
   "source": [
    "### 例 机票超售问题\n",
    "\n",
    "200 座的客机，每个乘客有 5% 的可能性不来，问超售多少机票合理?\n",
    "\n",
    "假设超售 m 张机票，则上面的问题可以用 200 重独立伯努利试验模型描述，设要求登机乘客数为 $X$，则 $X \\sim {\\rm Bin}(200+m, p)$。\n",
    "\n",
    "方便起见，令 $Y$ 表示买票却未来的乘客数，则有 $X+Y=200+m$\n",
    "\n",
    "有乘客上不了飞机的概率 $Pr(X > 200) = Pr(Y < m)$\n",
    "\n",
    "下面，对超售的机票数 m 的每一个取值我们计算有乘客上不了机的概率"
   ]
  },
  {
   "cell_type": "code",
   "execution_count": null,
   "metadata": {},
   "outputs": [],
   "source": []
  },
  {
   "cell_type": "code",
   "execution_count": null,
   "metadata": {},
   "outputs": [],
   "source": [
    "from scipy.stats import binom   # 计算二项分布的函数\n",
    "\n",
    "m_max = 10  # 超售机票的最大数量\n",
    "\n",
    "seat_num = 200    # seat_num 表示飞机实有的座位数\n",
    "\n",
    "p = 0.05   # 乘客不来的概率\n",
    "\n",
    "# 定义计算超售 m 张机票的情况下有旅客上不了飞机的概率\n",
    "def lack_seat_prob(seat_num, m, p) :\n",
    "    binom.cdf( m, seat_num + m, p )\n",
    "\n",
    "# 计算简便起见，用泊松分布近似二项分布，令 lambda=(200+m) * 0.05，则 200+m 个持票乘客中有 k 个不来的概率为 Pois(k,lambda)\n",
    "\n",
    "# 下面，对 m 的每一个取值我们计算有乘客上不了机的概率\n",
    "\n",
    "m <- seq(1, 50, 1)   # m 为超售的机票数向量\n",
    "prob <- rep(0, length(m))   # prob 为对应于各个机票的概率向量, 初始化为 0\n",
    "seat.num <- 200    # seat.num 表示飞机实有的座位数\n",
    "p <- 0.05   # 乘客不来的概率\n",
    "\n",
    "for(i in c(1:length(m))){\n",
    "  # 计算 seat.num + m[i] 个持票旅客中有 k 个不来的概率 \n",
    "  lambda <- (seat.num + m[i])*p\n",
    "  \n",
    "  k <- c(0:m[i]-1)\n",
    "  kp <- rep(0, length(k))\n",
    "  for(j in k){\n",
    "    kp[j+1] <- round(PoisDist(j, lambda),5)\n",
    "  }\n",
    "  prob[i] <- sum(kp)\n",
    "}\n",
    "\n",
    "# 生成一个数据框用于存储结果\n",
    "dist <- data.frame(Overbooks = m, Probability = prob)\n",
    "\n",
    "# 显示结果\n",
    "print(dist)\n",
    "\n",
    "# 画图\n",
    "plot(dist, main=\"超售概率分布图\", xlab=\"超售的座位数\", ylab=\"座位不够的概率\")"
   ]
  }
 ],
 "metadata": {
  "kernelspec": {
   "display_name": "Python 3",
   "language": "python",
   "name": "python3"
  },
  "language_info": {
   "codemirror_mode": {
    "name": "ipython",
    "version": 3
   },
   "file_extension": ".py",
   "mimetype": "text/x-python",
   "name": "python",
   "nbconvert_exporter": "python",
   "pygments_lexer": "ipython3",
   "version": "3.7.2"
  }
 },
 "nbformat": 4,
 "nbformat_minor": 1
}
