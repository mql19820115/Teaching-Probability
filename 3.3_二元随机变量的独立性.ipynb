{
 "cells": [
  {
   "cell_type": "code",
   "execution_count": 1,
   "metadata": {},
   "outputs": [],
   "source": [
    "##########################\n",
    "# 配置运行环境\n",
    "##########################\n",
    "\n",
    "%matplotlib inline\n",
    "\n",
    "import numpy as np\n",
    "import pandas as pd\n",
    "from matplotlib import pyplot\n",
    "\n",
    "# matplotlib 对中文的支持及保存为 pdf 格式\n",
    "from matplotlib import font_manager\n",
    "cn_font = font_manager.FontProperties(fname='msyh.ttf', size=16)  # 网上支持中文\n",
    "\n",
    "from matplotlib import rcParams\n",
    "# rcParams['font.family'] = 'Microsoft YaHei'  # 本地支持中文\n",
    "rcParams['pdf.fonttype'] = 42\n",
    "rcParams['figure.figsize'] = (8, 5)\n",
    "\n",
    "# Look pretty...\n",
    "from matplotlib import style\n",
    "style.use('ggplot')\n",
    "\n",
    "# 设置 numpy 的输出精度, 并且阻止使用科学记数法\n",
    "np.set_printoptions(precision=6, suppress=True)"
   ]
  },
  {
   "cell_type": "markdown",
   "metadata": {},
   "source": [
    "# 二元离散随机变量的独立性\n",
    "\n",
    "本节我们研究用 Python 检查二元离散随机变量的独立性。\n",
    "\n",
    "考虑下列随机变量 $W, I, X, Y$，其中 $W$ 和 $X$ 的取值为 {晴天, 雨天, 阴天}，$I$ 和 $Y$ 的取值为 $0,1$。它们的联合分布列如下"
   ]
  },
  {
   "cell_type": "code",
   "execution_count": 2,
   "metadata": {},
   "outputs": [],
   "source": [
    "joint_prob_WI = pd.DataFrame([[0, 1/2], [1/6, 0], [1/3, 0]], columns=[0, 1], index=['晴天', '雨天', '阴天'])\n",
    "\n",
    "joint_prob_XY = pd.DataFrame([[1/4, 1/4], [1/6, 1/6], [1/12, 1/12]], columns=[0, 1], index=['晴天', '雨天', '阴天'])"
   ]
  },
  {
   "cell_type": "code",
   "execution_count": 12,
   "metadata": {},
   "outputs": [
    {
     "name": "stdout",
     "output_type": "stream",
     "text": [
      "随机变量 W, I 的联合分布列为 \n",
      "            0    1\n",
      "晴天  0.000000  0.5\n",
      "雨天  0.166667  0.0\n",
      "阴天  0.333333  0.0\n"
     ]
    }
   ],
   "source": [
    "print('随机变量 W, I 的联合分布列为 \\n', joint_prob_WI.head())"
   ]
  },
  {
   "cell_type": "code",
   "execution_count": 13,
   "metadata": {},
   "outputs": [
    {
     "name": "stdout",
     "output_type": "stream",
     "text": [
      "随机变量 X, Y 的联合分布列为 \n",
      "            0         1\n",
      "晴天  0.250000  0.250000\n",
      "雨天  0.166667  0.166667\n",
      "阴天  0.083333  0.083333\n"
     ]
    }
   ],
   "source": [
    "print('随机变量 X, Y 的联合分布列为 \\n', joint_prob_XY.head())"
   ]
  },
  {
   "cell_type": "markdown",
   "metadata": {},
   "source": [
    "下面我们计算边缘分布 $p_W$ 和 $p_I$"
   ]
  },
  {
   "cell_type": "code",
   "execution_count": 5,
   "metadata": {},
   "outputs": [],
   "source": [
    "prob_W = joint_prob_WI.sum(axis=1)\n",
    "prob_I = joint_prob_WI.sum(axis=0)"
   ]
  },
  {
   "cell_type": "code",
   "execution_count": 20,
   "metadata": {},
   "outputs": [
    {
     "name": "stdout",
     "output_type": "stream",
     "text": [
      "随机变量 I 的边缘分布列为 [0.5 0.5]\n",
      "随机变量 W 的边缘分布列为 [0.5      0.166667 0.333333]\n"
     ]
    }
   ],
   "source": [
    "print('随机变量 I 的边缘分布列为 {}'.format(prob_I.values))\n",
    "print('随机变量 W 的边缘分布列为 {}'.format(prob_W.values))"
   ]
  },
  {
   "cell_type": "code",
   "execution_count": 7,
   "metadata": {},
   "outputs": [
    {
     "data": {
      "text/plain": [
       "晴天    0.500000\n",
       "雨天    0.166667\n",
       "阴天    0.333333\n",
       "dtype: float64"
      ]
     },
     "execution_count": 7,
     "metadata": {},
     "output_type": "execute_result"
    }
   ],
   "source": [
    "prob_W"
   ]
  },
  {
   "cell_type": "markdown",
   "metadata": {},
   "source": [
    "若 $W$ 和 $I$ 相互独立，则我们根据边缘分布就可以算出联合分布，也就是\n",
    "$$\n",
    "p_{W,I}(w, i) = p_W(w)p_I(i)\n",
    "$$\n",
    "根据线性代数的知识，我们只需将 $W$ 的分布列作为一个列向量，$I$ 的分布列作为行向量，它们的矩阵乘积就是它们独立情形下的联合分布列。"
   ]
  },
  {
   "cell_type": "code",
   "execution_count": 8,
   "metadata": {},
   "outputs": [
    {
     "name": "stdout",
     "output_type": "stream",
     "text": [
      "[[0.25     0.25    ]\n",
      " [0.083333 0.083333]\n",
      " [0.166667 0.166667]]\n"
     ]
    }
   ],
   "source": [
    "print(np.outer(prob_W, prob_I))"
   ]
  },
  {
   "cell_type": "markdown",
   "metadata": {},
   "source": [
    "可见 $W$ 和 $I$ 不独立。下面我们检查 $X$ 和 $Y$ 是否独立。"
   ]
  },
  {
   "cell_type": "code",
   "execution_count": 36,
   "metadata": {
    "scrolled": true
   },
   "outputs": [
    {
     "name": "stdout",
     "output_type": "stream",
     "text": [
      "[[0.25     0.25    ]\n",
      " [0.083333 0.083333]\n",
      " [0.166667 0.166667]]\n"
     ]
    }
   ],
   "source": [
    "prob_X = joint_prob_WI.sum(axis=1)\n",
    "prob_Y = joint_prob_WI.sum(axis=0)\n",
    "\n",
    "print(np.outer(prob_W, prob_I))"
   ]
  },
  {
   "cell_type": "markdown",
   "metadata": {},
   "source": [
    "可见 $X$ 和 $Y$ 不独立。"
   ]
  },
  {
   "cell_type": "markdown",
   "metadata": {},
   "source": [
    "## 独立与两两独立的区别\n",
    "\n",
    "假设随机变量 $X$, $Y$ 相互独立，且都服从如下的分布\n",
    "\n",
    "| 取值 | $-1$ | $1$ |\n",
    "|-------|------|-----|\n",
    "| 概率 | $0.5$ | $0.5$ |\n",
    "\n",
    "我们称 $X$, $Y$ 独立同分布 (i.i.d.)。令随机变量 $Z = XY$，则下列说法正确的是\n",
    "- (A) $X$, $Y$, $Z$ 的分布相同\n",
    "- (B) $(X,Y)$, $(Y,Z)$, $(X,Z)$ 的联合分布相同\n",
    "- (C) $X$, $Y$, $Z$ 两两独立\n",
    "- (D) $X$, $Y$, $Z$ 独立"
   ]
  },
  {
   "cell_type": "code",
   "execution_count": 34,
   "metadata": {},
   "outputs": [],
   "source": [
    "prob_X = pd.Series({'-1': 1/2, '1': 1/2})\n",
    "prob_Y = pd.Series({'-1': 1/2, '1': 1/2})"
   ]
  },
  {
   "cell_type": "markdown",
   "metadata": {},
   "source": [
    "由于 $X$, $Y$ 相互独立，因此 $P(Z) = P(XY) = P(X)P(Y)$，因此 $Z$ 的分布列为"
   ]
  },
  {
   "cell_type": "code",
   "execution_count": null,
   "metadata": {},
   "outputs": [],
   "source": [
    "prob_Z = pd.Series({'-1': 1/2, '1': 1/2})"
   ]
  },
  {
   "cell_type": "markdown",
   "metadata": {},
   "source": [
    "下面我们检查 $X$, $Z$ 是否独立。由于 $P(XZ) = P(XXY) = P(X^2Y) = P(Y)$"
   ]
  }
 ],
 "metadata": {
  "kernelspec": {
   "display_name": "Python 3",
   "language": "python",
   "name": "python3"
  },
  "language_info": {
   "codemirror_mode": {
    "name": "ipython",
    "version": 3
   },
   "file_extension": ".py",
   "mimetype": "text/x-python",
   "name": "python",
   "nbconvert_exporter": "python",
   "pygments_lexer": "ipython3",
   "version": "3.7.2"
  }
 },
 "nbformat": 4,
 "nbformat_minor": 1
}
