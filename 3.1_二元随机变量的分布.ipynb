{
 "cells": [
  {
   "cell_type": "code",
   "execution_count": 2,
   "metadata": {},
   "outputs": [],
   "source": [
    "##########################\n",
    "# 配置运行环境\n",
    "##########################\n",
    "\n",
    "%matplotlib inline\n",
    "\n",
    "import numpy as np\n",
    "import pandas as pd\n",
    "from matplotlib import pyplot\n",
    "\n",
    "# matplotlib 对中文的支持及保存为 pdf 格式\n",
    "from matplotlib import font_manager\n",
    "cn_font = font_manager.FontProperties(fname='msyh.ttf', size=16)  # 网上支持中文\n",
    "\n",
    "from matplotlib import rcParams\n",
    "# rcParams['font.family'] = 'Microsoft YaHei'  # 本地支持中文\n",
    "rcParams['pdf.fonttype'] = 42\n",
    "rcParams['figure.figsize'] = (8, 5)\n",
    "\n",
    "# Look pretty...\n",
    "from matplotlib import style\n",
    "style.use('ggplot')\n",
    "\n",
    "# 设置 numpy 的输出精度, 并且阻止使用科学记数法\n",
    "np.set_printoptions(precision=6, suppress=True)"
   ]
  },
  {
   "cell_type": "markdown",
   "metadata": {},
   "source": [
    "我们可以用多种不同的方式表示联合分布列. 例如随机变量 $W$ 和 $T$ 的联合分布列如下所示\n",
    "\n",
    "| $\\ $ | hot | cold |\n",
    "|---|---|---|\n",
    "| sunny | 3/10 | 1/5 |\n",
    "| rainy | 1/30 | 2/15 |\n",
    "|snowy | 0 | 1/3 |\n",
    "\n",
    "\n",
    "方法 1: 利用字典存储联合分布列"
   ]
  },
  {
   "cell_type": "code",
   "execution_count": null,
   "metadata": {},
   "outputs": [],
   "source": [
    "joint_probs = {('sunny', 'hot'): 3/10,\n",
    "               ('sunny', 'cold'): 1/5,\n",
    "               ('rainy', 'hot'): 1/30,\n",
    "               ('rainy', 'cold'): 2/15,\n",
    "               ('snowy', 'hot'): 0,\n",
    "               ('snowy', 'cold'): 1/3}"
   ]
  },
  {
   "cell_type": "markdown",
   "metadata": {},
   "source": [
    "若我们想查询 $W = sunny$, $T = hot$ 的概率，可以使用语句"
   ]
  },
  {
   "cell_type": "code",
   "execution_count": null,
   "metadata": {},
   "outputs": [],
   "source": [
    "joint_probs[('sunny', 'hot')]"
   ]
  },
  {
   "cell_type": "markdown",
   "metadata": {},
   "source": [
    "方法 2：利用 numpy 二维数组存储联合分布列"
   ]
  },
  {
   "cell_type": "code",
   "execution_count": 3,
   "metadata": {},
   "outputs": [],
   "source": [
    "weather = ['sunny', 'rainy', 'snowy']\n",
    "temperature = ['hot', 'cold']\n",
    "\n",
    "joint_probs = np.array([[3/10, 1/5], [1/30, 2/15], [0, 1/3]])"
   ]
  },
  {
   "cell_type": "markdown",
   "metadata": {},
   "source": [
    "我们可以使用如下语句读取数组数据，其中 `weather.index` 返回列表元素的序号."
   ]
  },
  {
   "cell_type": "code",
   "execution_count": 4,
   "metadata": {},
   "outputs": [
    {
     "data": {
      "text/plain": [
       "0.13333333333333333"
      ]
     },
     "execution_count": 4,
     "metadata": {},
     "output_type": "execute_result"
    }
   ],
   "source": [
    "joint_probs[weather.index('rainy'), temperature.index('cold')]"
   ]
  },
  {
   "cell_type": "markdown",
   "metadata": {},
   "source": [
    "为了方便按随机变量的取值调取数组数据，我们建立取值列表和数组下标之间的映射，其中 `enumerate` 函数生成列表元素和其序号的元组对."
   ]
  },
  {
   "cell_type": "code",
   "execution_count": 5,
   "metadata": {},
   "outputs": [],
   "source": [
    "row_index = {w: i for i, w in enumerate(weather)}\n",
    "col_index = {t: i for i, t in enumerate(temperature)}"
   ]
  },
  {
   "cell_type": "markdown",
   "metadata": {},
   "source": [
    "我们可以使用如下语句读取数组数据，简洁很多."
   ]
  },
  {
   "cell_type": "code",
   "execution_count": 6,
   "metadata": {},
   "outputs": [
    {
     "data": {
      "text/plain": [
       "0.13333333333333333"
      ]
     },
     "execution_count": 6,
     "metadata": {},
     "output_type": "execute_result"
    }
   ],
   "source": [
    "joint_probs[row_index['rainy'], col_index['cold']]"
   ]
  },
  {
   "cell_type": "code",
   "execution_count": null,
   "metadata": {},
   "outputs": [],
   "source": []
  }
 ],
 "metadata": {
  "kernelspec": {
   "display_name": "Python 3",
   "language": "python",
   "name": "python3"
  },
  "language_info": {
   "codemirror_mode": {
    "name": "ipython",
    "version": 3
   },
   "file_extension": ".py",
   "mimetype": "text/x-python",
   "name": "python",
   "nbconvert_exporter": "python",
   "pygments_lexer": "ipython3",
   "version": "3.7.2"
  }
 },
 "nbformat": 4,
 "nbformat_minor": 1
}
