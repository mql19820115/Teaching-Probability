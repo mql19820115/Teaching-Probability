{
 "cells": [
  {
   "cell_type": "markdown",
   "metadata": {},
   "source": [
    "# 1 全概率公式"
   ]
  },
  {
   "cell_type": "markdown",
   "metadata": {},
   "source": [
    "### 例 1\n",
    "\n",
    "张同学每周上一次概率课，每次上完课后，他可能跟的上，也可能跟不上. 如果某一周的课他能跟的上，那么下一周的课他跟的上的概率为 0.8；如果跟不上，那么下一周的课他跟的上的概率为 0.4. 现在假定第一周上课前他能够跟的上课程，那么经过 n 周的学习，他能够跟上的概率有多大?"
   ]
  },
  {
   "cell_type": "code",
   "execution_count": 4,
   "metadata": {},
   "outputs": [],
   "source": [
    "def masterProb(n, master_prob1, master_prob2, initial_prob):\n",
    "    \"\"\"\n",
    "    递归程序\n",
    "    \n",
    "    n: 第 n 次课\n",
    "    master_prob1: 在前一次课跟的上的情况下，第 n 次课跟的上的概率\n",
    "    master_prob2: 在前一次课跟不上的情况下，第 n 次课跟的上的概率\n",
    "    initial_prob: 第一次上课前跟的上的概率\n",
    "    \"\"\"\n",
    "    if n == 1:\n",
    "        return master_prob1 * initial_prob + master_prob2 * (1 - initial_prob)\n",
    "    else:\n",
    "        return master_prob1 * masterProb(n-1, master_prob1, master_prob2, initial_prob) + master_prob2 * (1 - masterProb(n-1, master_prob1, master_prob2, initial_prob))"
   ]
  },
  {
   "cell_type": "code",
   "execution_count": 8,
   "metadata": {},
   "outputs": [
    {
     "name": "stdout",
     "output_type": "stream",
     "text": [
      "0.8\n",
      "0.7200000000000001\n",
      "0.6880000000000001\n",
      "0.6752000000000001\n",
      "0.67008\n",
      "0.668032\n",
      "0.6672127999999999\n",
      "0.66688512\n",
      "0.666754048\n",
      "0.6667016192\n",
      "0.6666806476800001\n",
      "0.666672259072\n",
      "0.6666689036288\n",
      "0.6666675614515201\n",
      "0.6666670245806081\n",
      "0.6666668098322434\n",
      "0.6666667239328974\n",
      "0.666666689573159\n",
      "0.6666666758292636\n"
     ]
    }
   ],
   "source": [
    "for n in range(1,20):\n",
    "    print(masterProb(n, 0.8, 0.4, 1))"
   ]
  },
  {
   "cell_type": "markdown",
   "metadata": {},
   "source": [
    "### 例 2 三门问题\n",
    "\n",
    "美国电视节目中经常出现如下情形：你站在 3 个封闭的门前，其中一个门后有大奖. 奖品在哪个门后是完全随机的. 当你选定一个门后，主持人打开其余两扇门中的一扇空门，然后说：你还有一次重新选择的机会，是否要改主意选另一扇没有被打开的门. 你会如何选择？\n",
    "- 坚持原来的选择.\n",
    "- 改选另一扇没有被打开的门.\n",
    "- 无所谓，改变不改变没有影响."
   ]
  },
  {
   "cell_type": "code",
   "execution_count": null,
   "metadata": {},
   "outputs": [],
   "source": []
  },
  {
   "cell_type": "code",
   "execution_count": null,
   "metadata": {},
   "outputs": [],
   "source": []
  }
 ],
 "metadata": {
  "kernelspec": {
   "display_name": "Python 3",
   "language": "python",
   "name": "python3"
  },
  "language_info": {
   "codemirror_mode": {
    "name": "ipython",
    "version": 3
   },
   "file_extension": ".py",
   "mimetype": "text/x-python",
   "name": "python",
   "nbconvert_exporter": "python",
   "pygments_lexer": "ipython3",
   "version": "3.7.2"
  }
 },
 "nbformat": 4,
 "nbformat_minor": 1
}
