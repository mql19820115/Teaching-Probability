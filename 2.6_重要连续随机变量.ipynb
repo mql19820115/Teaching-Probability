{
 "cells": [
  {
   "cell_type": "code",
   "execution_count": null,
   "metadata": {},
   "outputs": [],
   "source": [
    "##########################\n",
    "# 配置运行环境\n",
    "##########################\n",
    "\n",
    "%matplotlib inline\n",
    "\n",
    "import numpy as np\n",
    "import pandas as pd\n",
    "from IPython.display import Math, Latex\n",
    "from matplotlib import pyplot\n",
    "import seaborn as sns\n",
    "\n",
    "# matplotlib 对中文的支持\n",
    "from matplotlib import font_manager\n",
    "cn_font = font_manager.FontProperties(fname='msyh.ttf', size=16)  # 网上支持中文\n",
    "\n",
    "from matplotlib import rcParams\n",
    "# rcParams['font.family'] = 'Microsoft YaHei'  # 本地支持中文\n",
    "\n",
    "# 保存为 pdf 格式\n",
    "rcParams['pdf.fonttype'] = 42\n",
    "rcParams['figure.figsize'] = (8,5)\n",
    "\n",
    "# Look pretty...\n",
    "from matplotlib import style\n",
    "style.use('ggplot')\n",
    "\n",
    "# 设置 numpy 的输出精度, 并且阻止使用科学记数法\n",
    "np.set_printoptions(precision=6, suppress=True)"
   ]
  },
  {
   "cell_type": "markdown",
   "metadata": {},
   "source": [
    "# 指数模型"
   ]
  },
  {
   "cell_type": "markdown",
   "metadata": {},
   "source": [
    "## 1 指数分布的图像"
   ]
  },
  {
   "cell_type": "code",
   "execution_count": null,
   "metadata": {},
   "outputs": [],
   "source": [
    "from scipy.stats import expon\n",
    "\n",
    "# 生成一个服从指数分布的随机变量\n",
    "X = expon()\n",
    "\n",
    "# 指数分布的概率密度函数\n",
    "pyplot.plot(x, expon_rv.pdf(x), 'b-', lw=2)\n",
    "\n",
    "# 设置画图范围\n",
    "pyplot.ylim( -0.2, 1.2)\n",
    "\n",
    "pyplot.title('指数分布 ($\\lambda = 1$) 随机变量的密度函数')\n",
    "pyplot.xlabel('自 变 量 取 值')\n",
    "pyplot.ylabel('概 率 密 度')\n",
    "pyplot.show()"
   ]
  },
  {
   "cell_type": "code",
   "execution_count": null,
   "metadata": {},
   "outputs": [],
   "source": [
    "# 指数分布的概率分布函数\n",
    "\n",
    "pyplot.plot(x, expon_rv.cdf(x), 'b-', lw=2)\n",
    "\n",
    "# 设置画图范围\n",
    "pyplot.ylim( -0.2, 1.2)\n",
    "\n",
    "pyplot.title('指数分布随机变量的分布函数')\n",
    "pyplot.xlabel('自 变 量 取 值')\n",
    "pyplot.ylabel('概 率 分 布')\n",
    "pyplot.show()"
   ]
  },
  {
   "cell_type": "code",
   "execution_count": null,
   "metadata": {},
   "outputs": [],
   "source": [
    "# 参数 $\\lambda$ 对指数函数图像的影响\n",
    "\n",
    "mycolor = [ \"red\", \"blue\", \"green\", \"purple\", \"darkgoldenrod\" ]\n",
    "scale = [ 0.5, 1, 3, 5, 10 ]\n",
    "\n",
    "x = np.arange( 0.01, 4.0, 0.01 )\n",
    "\n",
    "for i in range( 5 ) :\n",
    "    pyplot.plot( x, expon.pdf( x, scale=scale[i] ), color=mycolor[i], label='$1/\\lambda = $' + str(scale[i]) )\n",
    "\n",
    "# 设置画图范围\n",
    "pyplot.xlim( -0.2, 4.0 )\n",
    "pyplot.ylim( -0.2, 2.2 )\n",
    "\n",
    "pyplot.title('指数分布密度函数随尺度参数 $\\lambda$ 的变化规律')\n",
    "pyplot.xlabel('自 变 量 取 值')\n",
    "pyplot.ylabel('概 率 密 度')\n",
    "pyplot.legend()"
   ]
  },
  {
   "cell_type": "code",
   "execution_count": null,
   "metadata": {},
   "outputs": [],
   "source": []
  },
  {
   "cell_type": "code",
   "execution_count": null,
   "metadata": {},
   "outputs": [],
   "source": []
  },
  {
   "cell_type": "markdown",
   "metadata": {},
   "source": [
    "# 正态模型\n",
    "\n",
    "## 1 正态分布的图像"
   ]
  },
  {
   "cell_type": "code",
   "execution_count": null,
   "metadata": {},
   "outputs": [],
   "source": [
    "from scipy.stats import norm\n",
    "\n",
    "# 定义服从均值为 1，标准差为 2 正态分布随机变量\n",
    "X = norm(loc=1, scale=2)"
   ]
  },
  {
   "cell_type": "markdown",
   "metadata": {},
   "source": [
    "### 正态分布的概率密度函数图像"
   ]
  },
  {
   "cell_type": "code",
   "execution_count": null,
   "metadata": {},
   "outputs": [],
   "source": [
    "# 正态分布的概率密度函数\n",
    "x = np.arange( -5.0, 7.0, 0.01 )\n",
    "\n",
    "pyplot.plot( x, X.pdf( x ), 'r', label='标准正态分布 $N(0,1)$')\n",
    "pyplot.plot( x, X.pdf( x ), 'b--', label='正态分布 $N(1,2)$')\n",
    "\n",
    "# 设置画图范围\n",
    "pyplot.ylim( -0.2, 0.6 )\n",
    "\n",
    "pyplot.title('正态分布随机变量的密度函数')\n",
    "pyplot.xlabel('自变量值')\n",
    "pyplot.ylabel('概率密度')\n",
    "pyplot.legend()\n",
    "pyplot.show()"
   ]
  },
  {
   "cell_type": "code",
   "execution_count": null,
   "metadata": {},
   "outputs": [],
   "source": [
    "# 正态分布的累积分布函数\n",
    "\n",
    "x = np.arange( -3.0, 3.0, 0.01 )\n",
    "\n",
    "pyplot.plot( x, norm_rv_st.cdf( x ), 'r' )\n",
    "\n",
    "# 设置画图范围\n",
    "pyplot.ylim( -0.2, 1.2 )\n",
    "\n",
    "pyplot.title('正态分布随机变量的分布函数')\n",
    "pyplot.xlabel('自变量值')\n",
    "pyplot.ylabel('概率分布')\n",
    "pyplot.show()"
   ]
  },
  {
   "cell_type": "code",
   "execution_count": null,
   "metadata": {},
   "outputs": [],
   "source": [
    "# 参数 $\\mu$ 和 $\\sigma^2$ 对密度函数的影响。\n",
    "\n",
    "mycolor = [ \"red\", \"blue\", \"green\", \"purple\", \"darkgoldenrod\", \"orange\" ]\n",
    "loc = [ -5, -3, -1, 1, 3, 5 ]\n",
    "\n",
    "x = np.arange( -8.0, 6.0, 0.01 )\n",
    "\n",
    "for i in range( 5 ) :\n",
    "    pyplot.plot( x, norm.pdf( x, loc[i], 1 ), color=mycolor[i], label='$\\mu = $' + str(loc[i]) )\n",
    "\n",
    "# 设置画图范围\n",
    "pyplot.ylim( -0.2, 0.6 )\n",
    "\n",
    "pyplot.title('正态分布密度函数随位置参数 $\\mu$ 的变化规律')\n",
    "pyplot.xlabel('自 变 量 取 值')\n",
    "pyplot.ylabel('概 率 密 度')\n",
    "pyplot.legend()\n",
    "\n",
    "scale = [ 0.3, 0.5, 1, 2, 3, 5 ]\n",
    "\n",
    "x = np.arange( -6.0, 6.0, 0.01 )\n",
    "\n",
    "for i in range( 5 ) :\n",
    "    pyplot.plot( x, norm.pdf( x, 0, scale[i] ), color=mycolor[i], label='$\\sigma^2 = $' + str(scale[i]) )\n",
    "\n",
    "# 设置画图范围\n",
    "pyplot.ylim( -0.2, 1.5 )\n",
    "\n",
    "pyplot.title('正态分布密度函数随尺度参数 $\\sigma$ 的变化规律')\n",
    "pyplot.xlabel('自变量取值')\n",
    "pyplot.ylabel('概率密度')\n",
    "pyplot.legend()\n",
    "pyplot.show()"
   ]
  }
 ],
 "metadata": {
  "kernelspec": {
   "display_name": "Python 3",
   "language": "python",
   "name": "python3"
  },
  "language_info": {
   "codemirror_mode": {
    "name": "ipython",
    "version": 3
   },
   "file_extension": ".py",
   "mimetype": "text/x-python",
   "name": "python",
   "nbconvert_exporter": "python",
   "pygments_lexer": "ipython3",
   "version": "3.7.2"
  }
 },
 "nbformat": 4,
 "nbformat_minor": 1
}
