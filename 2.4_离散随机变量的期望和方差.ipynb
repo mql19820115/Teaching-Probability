{
 "cells": [
  {
   "cell_type": "code",
   "execution_count": 1,
   "metadata": {
    "code_folding": [
     0
    ]
   },
   "outputs": [],
   "source": [
    "##########################\n",
    "# 配置运行环境\n",
    "##########################\n",
    "\n",
    "%matplotlib inline\n",
    "\n",
    "import numpy as np\n",
    "import pandas as pd\n",
    "from IPython.display import Math, Latex\n",
    "from matplotlib import pyplot\n",
    "import seaborn as sns\n",
    "\n",
    "# matplotlib 对中文的支持\n",
    "from matplotlib import font_manager\n",
    "cn_font = font_manager.FontProperties(fname='msyh.ttf', size=16)  # 网上支持中文\n",
    "\n",
    "from matplotlib import rcParams\n",
    "# rcParams['font.family'] = 'Microsoft YaHei'  # 本地支持中文\n",
    "\n",
    "# 保存为 pdf 格式\n",
    "rcParams['pdf.fonttype'] = 42\n",
    "rcParams['figure.figsize'] = (8,5)\n",
    "\n",
    "# Look pretty...\n",
    "from matplotlib import style\n",
    "style.use('ggplot')\n",
    "\n",
    "# 设置 numpy 的输出精度, 并且阻止使用科学记数法\n",
    "np.set_printoptions(precision=6, suppress=True)"
   ]
  },
  {
   "cell_type": "markdown",
   "metadata": {
    "slideshow": {
     "slide_type": "slide"
    }
   },
   "source": [
    "# 离散随机变量的期望"
   ]
  },
  {
   "cell_type": "markdown",
   "metadata": {
    "slideshow": {
     "slide_type": "slide"
    }
   },
   "source": [
    "### 模拟射击的期望\n",
    "\n",
    "已知甲、乙两名战士的射击水平如下\n",
    "\n",
    "- 甲战士\n",
    "\n",
    "| 取值 | 6 | 7 | 8 | 9 | 10 |\n",
    "|-----|---|---|---|---|---|\n",
    "| 概率 | 0.2 | 0.4 | 0.0 | 0.1 | 0.3 |\n",
    "\n",
    "- 乙战士\n",
    "\n",
    "| 取值 | 6 | 7 | 8 | 9 | 10 |\n",
    "|-----|---|---|---|---|---|\n",
    "| 概率 | 0.0 | 0.2 | 0.5 | 0.3 | 0.0 |\n",
    "\n",
    "模拟两人的射击情况"
   ]
  },
  {
   "cell_type": "code",
   "execution_count": 2,
   "metadata": {
    "code_folding": [
     2
    ],
    "slideshow": {
     "slide_type": "notes"
    }
   },
   "outputs": [],
   "source": [
    "from scipy.stats import rv_discrete\n",
    "\n",
    "def simShooting(name: str, pmf: dict, n: int=1) -> list:\n",
    "    \"\"\"\n",
    "    模拟射击，返回射击成绩列表和汇总表\n",
    "    \n",
    "    name: 射手姓名\n",
    "    pmf: 射手的射击水平字典，key 表示环数，value 表示概率\n",
    "    n: 射击次数\n",
    "    \"\"\"\n",
    "    \n",
    "    # 定义一个服从给定分布的随机变量\n",
    "    X = rv_discrete(values=zip(*pmf.items()))\n",
    "    \n",
    "    # 生成 n 个观测值\n",
    "    samples = pd.Series(X.rvs(size=n))\n",
    "    \n",
    "    # 统计数据的频次\n",
    "    counts = samples.value_counts()\n",
    "    \n",
    "    reports = pd.DataFrame({\"环数\": counts.index, \"次数\": counts.values, \"频率\": counts.values/n})\n",
    "    \n",
    "    print('战士{}射击 {} 次的成绩: {}'.format(name, n, samples.values.tolist()))\n",
    "    print(reports.sort_values(by='环数').to_string(index=False, float_format='{:.3f}'.format, col_space=8))\n",
    "    print('战士{}射击的平均环数为: {}'.format(name, samples.mean()))"
   ]
  },
  {
   "cell_type": "code",
   "execution_count": 3,
   "metadata": {
    "code_folding": [
     0
    ],
    "slideshow": {
     "slide_type": "notes"
    }
   },
   "outputs": [],
   "source": [
    "# 两名战士的射击水平分布\n",
    "pmf_A = {6: 0.2, 7: 0.4, 8: 0.0, 9:0.1, 10: 0.3}\n",
    "pmf_B = {6: 0.0, 7: 0.5, 8: 0.2, 9:0.3, 10: 0.0}\n",
    "\n",
    "# 射击次数\n",
    "n = 100"
   ]
  },
  {
   "cell_type": "code",
   "execution_count": 4,
   "metadata": {
    "slideshow": {
     "slide_type": "slide"
    }
   },
   "outputs": [
    {
     "name": "stdout",
     "output_type": "stream",
     "text": [
      "战士甲射击 100 次的成绩: [7, 10, 7, 7, 6, 7, 6, 7, 7, 10, 6, 10, 9, 9, 10, 7, 10, 7, 10, 7, 6, 10, 7, 7, 6, 10, 7, 6, 6, 10, 7, 7, 10, 6, 9, 6, 7, 10, 7, 7, 10, 10, 7, 10, 7, 6, 7, 6, 7, 10, 10, 10, 10, 6, 9, 10, 6, 7, 7, 7, 10, 6, 7, 7, 9, 10, 6, 9, 10, 9, 7, 10, 10, 10, 7, 7, 9, 10, 10, 7, 7, 6, 6, 6, 10, 9, 9, 10, 10, 9, 7, 9, 10, 10, 10, 7, 10, 10, 7, 7]\n",
      "      环数       次数       频率\n",
      "       6       18    0.180\n",
      "       7       35    0.350\n",
      "       9       12    0.120\n",
      "      10       35    0.350\n",
      "战士甲射击的平均环数为: 8.11\n"
     ]
    }
   ],
   "source": [
    "simShooting(\"甲\", pmf_A, n)"
   ]
  },
  {
   "cell_type": "code",
   "execution_count": 5,
   "metadata": {
    "scrolled": true
   },
   "outputs": [
    {
     "name": "stdout",
     "output_type": "stream",
     "text": [
      "战士乙射击 100 次的成绩: [9, 7, 9, 7, 7, 7, 8, 9, 7, 7, 7, 7, 9, 7, 8, 8, 9, 8, 7, 9, 9, 9, 9, 8, 7, 9, 7, 7, 7, 7, 7, 7, 7, 9, 7, 8, 8, 7, 7, 7, 7, 7, 7, 7, 8, 7, 9, 8, 7, 7, 9, 7, 9, 9, 7, 7, 9, 8, 9, 7, 9, 9, 7, 7, 9, 7, 7, 7, 7, 7, 9, 7, 9, 9, 7, 7, 7, 9, 8, 9, 8, 9, 9, 9, 9, 8, 7, 9, 7, 9, 7, 7, 7, 8, 9, 9, 7, 7, 7, 7]\n",
      "      环数       次数       频率\n",
      "       7       53    0.530\n",
      "       8       14    0.140\n",
      "       9       33    0.330\n",
      "战士乙射击的平均环数为: 7.8\n"
     ]
    }
   ],
   "source": [
    "simShooting(\"乙\", pmf_B, n)"
   ]
  },
  {
   "cell_type": "markdown",
   "metadata": {},
   "source": [
    "我们看看随着射击次数的增加期望值的变化。"
   ]
  },
  {
   "cell_type": "code",
   "execution_count": 15,
   "metadata": {
    "code_folding": [],
    "scrolled": false
   },
   "outputs": [
    {
     "name": "stdout",
     "output_type": "stream",
     "text": [
      "甲战士射击 10 次的平均环数为：8.600\n",
      "乙战士射击 10 次的平均环数为：7.800\n",
      "\n",
      "甲战士射击 100 次的平均环数为：8.000\n",
      "乙战士射击 100 次的平均环数为：7.720\n",
      "\n",
      "甲战士射击 1000 次的平均环数为：7.822\n",
      "乙战士射击 1000 次的平均环数为：7.793\n",
      "\n",
      "甲战士射击 10000 次的平均环数为：7.910\n",
      "乙战士射击 10000 次的平均环数为：7.807\n",
      "\n",
      "甲战士射击 100000 次的平均环数为：7.905\n",
      "乙战士射击 100000 次的平均环数为：7.802\n",
      "\n",
      "甲战士射击 1000000 次的平均环数为：7.901\n",
      "乙战士射击 1000000 次的平均环数为：7.799\n",
      "\n"
     ]
    }
   ],
   "source": [
    "X = rv_discrete(values=zip(*pmf_A.items()))\n",
    "Y = rv_discrete(values=zip(*pmf_B.items()))\n",
    "for n in range(1, 7):\n",
    "    print('甲战士射击 {} 次的平均环数为：{:.3f}'.format(10**n, X.rvs(size=10**n).mean()))\n",
    "    print('乙战士射击 {} 次的平均环数为：{:.3f}'.format(10**n, Y.rvs(size=10**n).mean()))\n",
    "    print()"
   ]
  },
  {
   "cell_type": "markdown",
   "metadata": {},
   "source": [
    "### 验血分组问题\n",
    "\n",
    "若有 $N$ 人参加疾病普查，每个人化验结果呈阳性的概率都为 $p$，如何分组工作量最小.\n",
    "\n",
    "验血总次数 $X$ 的期望为 $E(X) = \\frac{N}{k}(1+k-k(1-p)^k)$.\n",
    "\n",
    "我们通过观测图像的方式找最优的 $k$ 值."
   ]
  },
  {
   "cell_type": "code",
   "execution_count": null,
   "metadata": {
    "code_folding": [
     0
    ]
   },
   "outputs": [],
   "source": [
    "def bestGroupNum(n: int, p: float):\n",
    "    \"\"\"\n",
    "    有 n 人参加疾病普查，每个人化验结果呈阳性的概率都为 $p$，如何分组工作量最小.\n",
    "    \n",
    "    n: 参加的人数\n",
    "    p: 每个人呈阳性的概率\n",
    "    \"\"\"\n",
    "    x = np.arange(1, n+1)\n",
    "    pyplot.figure()\n",
    "    pyplot.plot(x, (n/x)*(1+x-x*(1-p)**x), '.-b', linewidth=0.5)\n",
    "    pyplot.xlim(-1, n/2)\n",
    "\n",
    "    pyplot.title('验血的最优分组数 $p={}$'.format(p), fontproperties=cn_font)\n",
    "    pyplot.xlabel('每组的人数', fontproperties=cn_font)\n",
    "    pyplot.ylabel('总验血次数', fontproperties=cn_font)\n",
    "    pyplot.show()"
   ]
  },
  {
   "cell_type": "code",
   "execution_count": null,
   "metadata": {
    "scrolled": true
   },
   "outputs": [],
   "source": [
    "bestGroupNum(100, 0.1)"
   ]
  },
  {
   "cell_type": "markdown",
   "metadata": {},
   "source": [
    "当检验人数为 100 人时，若每个人验血呈阳性的概率为 0.1，则最优分组人数为 4，此时期望的总验血次数为 59 次，能减少 40% 的工作量！"
   ]
  },
  {
   "cell_type": "code",
   "execution_count": null,
   "metadata": {},
   "outputs": [],
   "source": [
    "for p in [0.01, 0.05, 0.1, 0.2, 0.5]:\n",
    "    bestGroupNum(100, p)"
   ]
  },
  {
   "cell_type": "markdown",
   "metadata": {},
   "source": [
    "# 离散随机变量的方差\n",
    "\n",
    "方差显示了随机变量的取值对其均值的偏离程度。我们可以利用方差来衡量不确定性，越大的方差意味着越大的不确定性。"
   ]
  },
  {
   "cell_type": "code",
   "execution_count": null,
   "metadata": {},
   "outputs": [],
   "source": [
    "# 战士甲、乙射击水平的概率分布\n",
    "pmf_A = {6: 0.2, 7: 0.4, 8: 0.0, 9:0.1, 10: 0.3}\n",
    "pmf_B = {6: 0.0, 7: 0.5, 8: 0.2, 9:0.3, 10: 0.0}\n",
    "\n",
    "# 定义随机变量 X, Y 分别服从战士甲、乙的分布\n",
    "X = rv_discrete(values=zip(*pmf_A.items()))\n",
    "Y = rv_discrete(values=zip(*pmf_B.items()))"
   ]
  },
  {
   "cell_type": "markdown",
   "metadata": {},
   "source": [
    "我们直观的看一下射击时两个战士发挥的稳定性"
   ]
  },
  {
   "cell_type": "code",
   "execution_count": null,
   "metadata": {
    "code_folding": [
     0
    ]
   },
   "outputs": [],
   "source": [
    "def stabilityOfShooting(name: str, pmf: dict, n: int):\n",
    "    \"\"\"\n",
    "    绘制射击 n 次的稳定性图形\n",
    "    \n",
    "    name: 射手名称\n",
    "    pmf: 射手的水平的概率分布字典\n",
    "    n: 射击次数\n",
    "    \"\"\"\n",
    "    X = rv_discrete(values=zip(*pmf.items()))\n",
    "    \n",
    "    fig = pyplot.figure()\n",
    "    \n",
    "    pyplot.plot(range(n), X.rvs(size=n), 'o--', linewidth=1, ms=3)\n",
    "    pyplot.hlines(X.mean(), -1, n+1, colors='b', lw=2)\n",
    "\n",
    "    # 画图范围\n",
    "    pyplot.xlim(-1, n+1)\n",
    "    pyplot.ylim(5.5, 10.5)\n",
    "\n",
    "    pyplot.title('战士{}射击的稳定性'.format(name), fontproperties=cn_font)\n",
    "    pyplot.xlabel('次数', fontproperties=cn_font)\n",
    "    pyplot.ylabel('环数', fontproperties=cn_font)\n",
    "    pyplot.show()"
   ]
  },
  {
   "cell_type": "code",
   "execution_count": null,
   "metadata": {
    "scrolled": true
   },
   "outputs": [],
   "source": [
    "stabilityOfShooting('甲', pmf_A, 100)"
   ]
  },
  {
   "cell_type": "code",
   "execution_count": null,
   "metadata": {
    "scrolled": false
   },
   "outputs": [],
   "source": [
    "stabilityOfShooting('乙', pmf_B, 100)"
   ]
  },
  {
   "cell_type": "markdown",
   "metadata": {},
   "source": [
    "下面，我们考察如果只射击一次，两名战士谁的胜面大一些"
   ]
  },
  {
   "cell_type": "code",
   "execution_count": null,
   "metadata": {},
   "outputs": [],
   "source": [
    "from collections import Counter\n",
    "\n",
    "# 试验次数\n",
    "trails = 10000\n",
    "\n",
    "results_A = X.rvs(size=trails)\n",
    "results_B = Y.rvs(size=trails)\n",
    "\n",
    "for i in range(10):\n",
    "    print('第 {:2d} 次比拼，战士甲为 {:2d} 环，战士乙为 {:2d} 环.'.format(i+1, results_A[i], results_B[i]))\n",
    "    \n",
    "wins = Counter(['甲胜' if a > b else '乙胜' if b > a else '平局' for a,b in zip(results_A, results_B)])\n",
    "\n",
    "print()\n",
    "print('比拼 {} 次，其中甲胜 {:2d} 局，乙胜 {:2d} 局，平手 {:2d} 局.'.format(trails, wins['甲胜'], wins['乙胜'], wins['平局']))"
   ]
  },
  {
   "cell_type": "markdown",
   "metadata": {},
   "source": [
    "这里，我们发现，虽然 A 战士平均看来更好，但是 B 战士的发挥更稳定，在给定的规则下，胜的可能性反而更大."
   ]
  },
  {
   "cell_type": "code",
   "execution_count": null,
   "metadata": {},
   "outputs": [],
   "source": [
    "print(\"战士 A 的期望为 {:.2f}，方差为 {:.3f}.\".format(X.mean(), X.var()))\n",
    "print(\"战士 B 的期望为 {:.2f}，方差为 {:.3f}.\".format(Y.mean(), Y.var()))"
   ]
  },
  {
   "cell_type": "markdown",
   "metadata": {},
   "source": [
    " 当然，方差的波动有两种情形，可能朝好的方向波动，也可能朝坏的方向波动。因此也不一定方差越大越不好。例如在股票投资中，期望表示预期收益，方差表示风险。这里风险是个中性词，实际收益好于预期也是风险，当然，这种风险是我们想要的。"
   ]
  },
  {
   "cell_type": "markdown",
   "metadata": {},
   "source": [
    "### 离散分布方差计算器"
   ]
  },
  {
   "cell_type": "code",
   "execution_count": null,
   "metadata": {},
   "outputs": [],
   "source": [
    "from scipy.stats import rv_discrete\n",
    "\n",
    "pmf = {1: 0.1, 2: 0.2, 3: 0.4, 4:0.2, 5: 0.1}\n",
    "\n",
    "X = rv_discrete(values=zip(*pmf.items()))\n",
    "\n",
    "print('方差为 {}，标准差为 {}'.format(X.var(), X.std()))"
   ]
  },
  {
   "cell_type": "markdown",
   "metadata": {},
   "source": [
    "## 应用实例 投资组合分析"
   ]
  },
  {
   "cell_type": "code",
   "execution_count": null,
   "metadata": {},
   "outputs": [],
   "source": []
  }
 ],
 "metadata": {
  "kernelspec": {
   "display_name": "Python 3",
   "language": "python",
   "name": "python3"
  },
  "language_info": {
   "codemirror_mode": {
    "name": "ipython",
    "version": 3
   },
   "file_extension": ".py",
   "mimetype": "text/x-python",
   "name": "python",
   "nbconvert_exporter": "python",
   "pygments_lexer": "ipython3",
   "version": "3.7.2"
  }
 },
 "nbformat": 4,
 "nbformat_minor": 1
}
