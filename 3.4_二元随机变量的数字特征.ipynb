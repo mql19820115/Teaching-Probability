{
 "cells": [
  {
   "cell_type": "code",
   "execution_count": 1,
   "metadata": {},
   "outputs": [],
   "source": [
    "##########################\n",
    "# 配置运行环境\n",
    "##########################\n",
    "\n",
    "%matplotlib inline\n",
    "\n",
    "import numpy as np\n",
    "import pandas as pd\n",
    "from matplotlib import pyplot\n",
    "\n",
    "# matplotlib 对中文的支持及保存为 pdf 格式\n",
    "from matplotlib import font_manager\n",
    "cn_font = font_manager.FontProperties(fname='msyh.ttf', size=16)  # 网上支持中文\n",
    "\n",
    "from matplotlib import rcParams\n",
    "# rcParams['font.family'] = 'Microsoft YaHei'  # 本地支持中文\n",
    "rcParams['pdf.fonttype'] = 42\n",
    "rcParams['figure.figsize'] = (8, 5)\n",
    "\n",
    "# Look pretty...\n",
    "from matplotlib import style\n",
    "style.use('ggplot')\n",
    "\n",
    "# 设置 numpy 的输出精度, 并且阻止使用科学记数法\n",
    "np.set_printoptions(precision=6, suppress=True)"
   ]
  },
  {
   "cell_type": "markdown",
   "metadata": {},
   "source": [
    "# 二元离散随机变量的期望\n",
    "\n"
   ]
  },
  {
   "cell_type": "code",
   "execution_count": 2,
   "metadata": {},
   "outputs": [],
   "source": [
    "data = {\n",
    "    ('患病', '治疗'): 20000,\n",
    "    ('健康', '治疗'): 20000,\n",
    "    ('患病', '不治疗'): 50000,\n",
    "    ('健康', '不治疗'): 0\n",
    "    }"
   ]
  },
  {
   "cell_type": "markdown",
   "metadata": {},
   "source": [
    "方便起见，我们用 pandas.DataFrame 存储成本表。"
   ]
  },
  {
   "cell_type": "code",
   "execution_count": 3,
   "metadata": {},
   "outputs": [
    {
     "data": {
      "text/html": [
       "<div>\n",
       "<style scoped>\n",
       "    .dataframe tbody tr th:only-of-type {\n",
       "        vertical-align: middle;\n",
       "    }\n",
       "\n",
       "    .dataframe tbody tr th {\n",
       "        vertical-align: top;\n",
       "    }\n",
       "\n",
       "    .dataframe thead th {\n",
       "        text-align: right;\n",
       "    }\n",
       "</style>\n",
       "<table border=\"1\" class=\"dataframe\">\n",
       "  <thead>\n",
       "    <tr style=\"text-align: right;\">\n",
       "      <th></th>\n",
       "      <th>治疗</th>\n",
       "      <th>不治疗</th>\n",
       "    </tr>\n",
       "  </thead>\n",
       "  <tbody>\n",
       "    <tr>\n",
       "      <th>健康</th>\n",
       "      <td>20000.0</td>\n",
       "      <td>0.0</td>\n",
       "    </tr>\n",
       "    <tr>\n",
       "      <th>患病</th>\n",
       "      <td>20000.0</td>\n",
       "      <td>50000.0</td>\n",
       "    </tr>\n",
       "  </tbody>\n",
       "</table>\n",
       "</div>"
      ],
      "text/plain": [
       "         治疗      不治疗\n",
       "健康  20000.0      0.0\n",
       "患病  20000.0  50000.0"
      ]
     },
     "execution_count": 3,
     "metadata": {},
     "output_type": "execute_result"
    }
   ],
   "source": [
    "cost_table = pd.DataFrame(np.zeros((2, 2)), columns=['治疗', '不治疗'], index=['健康', '患病'])\n",
    "\n",
    "for key, value in data.items():\n",
    "    cost_table.loc[key] = value\n",
    "    \n",
    "cost_table"
   ]
  },
  {
   "cell_type": "markdown",
   "metadata": {},
   "source": [
    "下面我们看看检测手段的精度。也就是是否真的患病和检查结果之间的关系。令随机变量 $X$ 表示患者是否健康。令随机变量 $Y$ 表示检测结果是阴性还是阳性。"
   ]
  },
  {
   "cell_type": "code",
   "execution_count": 4,
   "metadata": {
    "scrolled": true
   },
   "outputs": [
    {
     "data": {
      "text/html": [
       "<div>\n",
       "<style scoped>\n",
       "    .dataframe tbody tr th:only-of-type {\n",
       "        vertical-align: middle;\n",
       "    }\n",
       "\n",
       "    .dataframe tbody tr th {\n",
       "        vertical-align: top;\n",
       "    }\n",
       "\n",
       "    .dataframe thead th {\n",
       "        text-align: right;\n",
       "    }\n",
       "</style>\n",
       "<table border=\"1\" class=\"dataframe\">\n",
       "  <thead>\n",
       "    <tr style=\"text-align: right;\">\n",
       "      <th></th>\n",
       "      <th>阳性</th>\n",
       "      <th>阴性</th>\n",
       "    </tr>\n",
       "  </thead>\n",
       "  <tbody>\n",
       "    <tr>\n",
       "      <th>健康</th>\n",
       "      <td>0.01</td>\n",
       "      <td>0.99</td>\n",
       "    </tr>\n",
       "    <tr>\n",
       "      <th>患病</th>\n",
       "      <td>0.99</td>\n",
       "      <td>0.01</td>\n",
       "    </tr>\n",
       "  </tbody>\n",
       "</table>\n",
       "</div>"
      ],
      "text/plain": [
       "      阳性    阴性\n",
       "健康  0.01  0.99\n",
       "患病  0.99  0.01"
      ]
     },
     "execution_count": 4,
     "metadata": {},
     "output_type": "execute_result"
    }
   ],
   "source": [
    "conditional_probs = pd.DataFrame([[0.01, 0.99], [0.99, 0.01]], columns=['阳性', '阴性'], index=['健康', '患病'])\n",
    "\n",
    "conditional_probs"
   ]
  },
  {
   "cell_type": "markdown",
   "metadata": {},
   "source": [
    "下面，我们看看当检测结果 $Y$ 呈 '阳性' 的时候，如何利用成本表帮助我们决定是否进行治疗。在 $Y$ 为阳性的情况下，有两种可能的情况\n",
    "\n",
    "- 第一种是在 $Y = \\text{阳性}$ 的情况下，$X = \\text{患病}$，这一事件发生的概率为 $p_{X|Y}(\\text{患病 }|\\text{ 阳性}$。这种情形下成本为\n",
    "    + 若我们决定治疗，成本为 20000\n",
    "    - 若我们决定不治疗，成本为 50000\n",
    "- 第二种是在 $Y = \\text{阳性}$ 的情况下，$X = \\text{健康}$，这一事件发生的概率为 $p_{X|Y}(\\text{健康 }|\\text{ 阳性}$。这种情形下成本为\n",
    "    + 若我们决定治疗，成本为 20000\n",
    "    - 若我们决定不治疗，成本为 0\n",
    "\n",
    "综合考虑上述情形\n",
    "\n",
    "- 若我们选择不治疗，则成本 $C$ 是一个随机变量，分布为 $p_{C|Y}(\\cdot | \\text{阳性})$. \n",
    "$$\n",
    "E(C|Y=\\text{阳性}) = \n",
    "$$"
   ]
  },
  {
   "cell_type": "code",
   "execution_count": 7,
   "metadata": {},
   "outputs": [
    {
     "data": {
      "text/plain": [
       "49500.0"
      ]
     },
     "execution_count": 7,
     "metadata": {},
     "output_type": "execute_result"
    }
   ],
   "source": [
    "np.dot(cost_table.loc[:, '不治疗'], conditional_probs.loc[:, '阳性'])"
   ]
  },
  {
   "cell_type": "markdown",
   "metadata": {},
   "source": [
    "- 若我们选择治疗，则成本 $C$ 是一个随机变量，分布为 $p_{C|Y}(\\cdot | \\text{阳性})$. \n",
    "$$\n",
    "E(C|Y=\\text{阳性}) = \n",
    "$$"
   ]
  },
  {
   "cell_type": "code",
   "execution_count": 8,
   "metadata": {},
   "outputs": [
    {
     "data": {
      "text/plain": [
       "20000.0"
      ]
     },
     "execution_count": 8,
     "metadata": {},
     "output_type": "execute_result"
    }
   ],
   "source": [
    "np.dot(cost_table.loc[:, '治疗'], conditional_probs.loc[:, '阳性'])"
   ]
  },
  {
   "cell_type": "code",
   "execution_count": null,
   "metadata": {},
   "outputs": [],
   "source": []
  }
 ],
 "metadata": {
  "kernelspec": {
   "display_name": "Python 3",
   "language": "python",
   "name": "python3"
  },
  "language_info": {
   "codemirror_mode": {
    "name": "ipython",
    "version": 3
   },
   "file_extension": ".py",
   "mimetype": "text/x-python",
   "name": "python",
   "nbconvert_exporter": "python",
   "pygments_lexer": "ipython3",
   "version": "3.7.2"
  }
 },
 "nbformat": 4,
 "nbformat_minor": 1
}
