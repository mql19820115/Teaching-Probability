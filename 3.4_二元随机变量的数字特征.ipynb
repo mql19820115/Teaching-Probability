{
 "cells": [
  {
   "cell_type": "code",
   "execution_count": 1,
   "metadata": {},
   "outputs": [],
   "source": [
    "##########################\n",
    "# 配置运行环境\n",
    "##########################\n",
    "\n",
    "%matplotlib inline\n",
    "\n",
    "import numpy as np\n",
    "import pandas as pd\n",
    "from matplotlib import pyplot\n",
    "\n",
    "# matplotlib 对中文的支持及保存为 pdf 格式\n",
    "from matplotlib import font_manager\n",
    "cn_font = font_manager.FontProperties(fname='msyh.ttf', size=16)  # 网上支持中文\n",
    "\n",
    "from matplotlib import rcParams\n",
    "# rcParams['font.family'] = 'Microsoft YaHei'  # 本地支持中文\n",
    "rcParams['pdf.fonttype'] = 42\n",
    "rcParams['figure.figsize'] = (8, 5)\n",
    "\n",
    "# Look pretty...\n",
    "from matplotlib import style\n",
    "style.use('ggplot')\n",
    "\n",
    "# 设置 numpy 的输出精度, 并且阻止使用科学记数法\n",
    "np.set_printoptions(precision=6, suppress=True)"
   ]
  },
  {
   "cell_type": "markdown",
   "metadata": {},
   "source": [
    "# 二元离散随机变量的期望\n",
    "\n"
   ]
  },
  {
   "cell_type": "markdown",
   "metadata": {},
   "source": [
    "## 例 考虑成本的医疗诊断问题\n",
    "\n",
    "在医学诊断过程中，受制于检测设备和手段的精度，会出现假阳性 (健康人的检测结果呈阳性) 和假阴性 (病患的检测结果呈阴性) 的现象。在贝叶斯理论部分，我们计算了在检测结果呈阳性的情况下，患者真的得病的概率。虽然，我们发现对于罕见病，这一概率很低，但是医生依然面临着是否要根据检测结果对患者进行治疗的抉择。\n",
    "\n",
    "理想状况下，我们当然希望只治疗那些真的得病的患者，而不对那些没有患病的患者进行治疗。但是囿于现实条件，我们可能会治疗那些假阳性的患者，这会造成医疗资源的浪费；也可能没有治疗假阴性的病人，这可能导致病人病情恶化，造成更大的后期治疗成本。该如何决定是否治疗病人呢？\n",
    "\n",
    "为此，我们要考虑是否治疗带来的成本。下表给出了成本函数 $C(x, d)$，它表示在病人的真实病情为 $x$ ('健康' 或 '患病') 情况下，采取决策 $d$ ('治疗' 或 '不治疗') 带来的成本。例如\n",
    "- $C(健康, 治疗) = 20000$，说明在假阳性的情况下治疗的成本为 20000 元。\n",
    "- $C(患病, 不治疗) = 50000$，说明在假阴性的情况下，不治疗导致病情延误带来的后期治疗成本为 50000 元。"
   ]
  },
  {
   "cell_type": "code",
   "execution_count": 1,
   "metadata": {},
   "outputs": [],
   "source": [
    "data = {\n",
    "    ('患病', '治疗'): 20000,\n",
    "    ('健康', '治疗'): 20000,\n",
    "    ('患病', '不治疗'): 50000,\n",
    "    ('健康', '不治疗'): 0\n",
    "    }"
   ]
  },
  {
   "cell_type": "markdown",
   "metadata": {},
   "source": [
    "方便起见，我们用 pandas.DataFrame 存储成本表。"
   ]
  },
  {
   "cell_type": "code",
   "execution_count": 3,
   "metadata": {},
   "outputs": [
    {
     "data": {
      "text/html": [
       "<div>\n",
       "<style scoped>\n",
       "    .dataframe tbody tr th:only-of-type {\n",
       "        vertical-align: middle;\n",
       "    }\n",
       "\n",
       "    .dataframe tbody tr th {\n",
       "        vertical-align: top;\n",
       "    }\n",
       "\n",
       "    .dataframe thead th {\n",
       "        text-align: right;\n",
       "    }\n",
       "</style>\n",
       "<table border=\"1\" class=\"dataframe\">\n",
       "  <thead>\n",
       "    <tr style=\"text-align: right;\">\n",
       "      <th></th>\n",
       "      <th>治疗</th>\n",
       "      <th>不治疗</th>\n",
       "    </tr>\n",
       "  </thead>\n",
       "  <tbody>\n",
       "    <tr>\n",
       "      <th>健康</th>\n",
       "      <td>20000.0</td>\n",
       "      <td>0.0</td>\n",
       "    </tr>\n",
       "    <tr>\n",
       "      <th>患病</th>\n",
       "      <td>20000.0</td>\n",
       "      <td>50000.0</td>\n",
       "    </tr>\n",
       "  </tbody>\n",
       "</table>\n",
       "</div>"
      ],
      "text/plain": [
       "         治疗      不治疗\n",
       "健康  20000.0      0.0\n",
       "患病  20000.0  50000.0"
      ]
     },
     "execution_count": 3,
     "metadata": {},
     "output_type": "execute_result"
    }
   ],
   "source": [
    "cost_table = pd.DataFrame(np.zeros((2, 2)), columns=['治疗', '不治疗'], index=['健康', '患病'])\n",
    "\n",
    "for key, value in data.items():\n",
    "    cost_table.loc[key] = value\n",
    "    \n",
    "cost_table"
   ]
  },
  {
   "cell_type": "markdown",
   "metadata": {},
   "source": [
    "假设诊断的准确度为 0.99。也就是患病而未检出 (假阴性) 与健康却检出 (假阳性) 的比例均为 1%。令随机变量 $X$ 表示患者是否健康。令随机变量 $Y$ 表示检测结果是阴性还是阳性。我们有如下数据"
   ]
  },
  {
   "cell_type": "code",
   "execution_count": 4,
   "metadata": {
    "scrolled": true
   },
   "outputs": [
    {
     "data": {
      "text/html": [
       "<div>\n",
       "<style scoped>\n",
       "    .dataframe tbody tr th:only-of-type {\n",
       "        vertical-align: middle;\n",
       "    }\n",
       "\n",
       "    .dataframe tbody tr th {\n",
       "        vertical-align: top;\n",
       "    }\n",
       "\n",
       "    .dataframe thead th {\n",
       "        text-align: right;\n",
       "    }\n",
       "</style>\n",
       "<table border=\"1\" class=\"dataframe\">\n",
       "  <thead>\n",
       "    <tr style=\"text-align: right;\">\n",
       "      <th></th>\n",
       "      <th>阳性</th>\n",
       "      <th>阴性</th>\n",
       "    </tr>\n",
       "  </thead>\n",
       "  <tbody>\n",
       "    <tr>\n",
       "      <th>健康</th>\n",
       "      <td>0.01</td>\n",
       "      <td>0.99</td>\n",
       "    </tr>\n",
       "    <tr>\n",
       "      <th>患病</th>\n",
       "      <td>0.99</td>\n",
       "      <td>0.01</td>\n",
       "    </tr>\n",
       "  </tbody>\n",
       "</table>\n",
       "</div>"
      ],
      "text/plain": [
       "      阳性    阴性\n",
       "健康  0.01  0.99\n",
       "患病  0.99  0.01"
      ]
     },
     "execution_count": 4,
     "metadata": {},
     "output_type": "execute_result"
    }
   ],
   "source": [
    "accuracy = pd.DataFrame([[0.01, 0.99], [0.99, 0.01]], columns=['阳性', '阴性'], index=['健康', '患病'])\n",
    "\n",
    "accuracy"
   ]
  },
  {
   "cell_type": "markdown",
   "metadata": {},
   "source": [
    "下面，我们看看当检测结果 $Y$ 呈 '阳性' 的时候，如何利用成本表帮助我们决定是否进行治疗。在 $Y$ 为阳性的情况下，有两种可能的情况\n",
    "\n",
    "- 第一种是在 $Y=阳性$ 的情况下，$X = 患病$，这一事件发生的概率为 $p_{X|Y}(患病 | 阳性)$。这种情形下成本为\n",
    "    + 若我们决定治疗，成本为 20000\n",
    "    - 若我们决定不治疗，成本为 50000\n",
    "- 第二种是在 $Y = 阳性$ 的情况下，$X = 健康$，这一事件发生的概率为 $p_{X|Y}(健康 | 阳性)$。这种情形下成本为\n",
    "    + 若我们决定治疗，成本为 20000\n",
    "    - 若我们决定不治疗，成本为 0\n",
    "\n",
    "综合考虑上述情形\n",
    "\n",
    "- 若我们选择不治疗，则成本 $C$ 是一个随机变量，分布为 $p_{C|Y}(\\cdot | 阳性)$.\n",
    "\n",
    "| 成本 | 50000 | 0 |\n",
    "|------|------|------|\n",
    "| 概率 | $p_{X|Y}$(患病\\|阳性) | $p_{X|Y}$(健康\\|阳性) |\n",
    "\n",
    "$$\n",
    "E(C|Y = 阳性) = 50000 \\cdot p_{X|Y}(患病|阳性) + 0 \\cdot p_{X|Y}(健康|阳性)\n",
    "$$"
   ]
  },
  {
   "cell_type": "code",
   "execution_count": 7,
   "metadata": {},
   "outputs": [
    {
     "data": {
      "text/plain": [
       "49500.0"
      ]
     },
     "execution_count": 7,
     "metadata": {},
     "output_type": "execute_result"
    }
   ],
   "source": [
    "np.dot(cost_table.loc[:, '不治疗'], conditional_probs.loc[:, '阳性'])"
   ]
  },
  {
   "cell_type": "markdown",
   "metadata": {},
   "source": [
    "- 若我们选择治疗，则成本 $C$ 是一个随机变量，分布为 $p_{C|Y}(\\cdot | 阳性)$. \n",
    "$$\n",
    "E(C|Y = 阳性) = \n",
    "$$"
   ]
  },
  {
   "cell_type": "code",
   "execution_count": 8,
   "metadata": {},
   "outputs": [
    {
     "data": {
      "text/plain": [
       "20000.0"
      ]
     },
     "execution_count": 8,
     "metadata": {},
     "output_type": "execute_result"
    }
   ],
   "source": [
    "np.dot(cost_table.loc[:, '治疗'], conditional_probs.loc[:, '阳性'])"
   ]
  },
  {
   "cell_type": "markdown",
   "metadata": {},
   "source": [
    "令诊断的准确度为 $a$，试分析当 $a$ 取什么值时，治疗比不治疗成本小。"
   ]
  },
  {
   "cell_type": "markdown",
   "metadata": {},
   "source": [
    "# 协方差和相关系数"
   ]
  },
  {
   "cell_type": "markdown",
   "metadata": {},
   "source": [
    "## 高尔顿 1895 父子身高数据"
   ]
  },
  {
   "cell_type": "code",
   "execution_count": 3,
   "metadata": {},
   "outputs": [
    {
     "data": {
      "text/html": [
       "<div>\n",
       "<style scoped>\n",
       "    .dataframe tbody tr th:only-of-type {\n",
       "        vertical-align: middle;\n",
       "    }\n",
       "\n",
       "    .dataframe tbody tr th {\n",
       "        vertical-align: top;\n",
       "    }\n",
       "\n",
       "    .dataframe thead th {\n",
       "        text-align: right;\n",
       "    }\n",
       "</style>\n",
       "<table border=\"1\" class=\"dataframe\">\n",
       "  <thead>\n",
       "    <tr style=\"text-align: right;\">\n",
       "      <th></th>\n",
       "      <th>0</th>\n",
       "      <th>1</th>\n",
       "      <th>2</th>\n",
       "    </tr>\n",
       "  </thead>\n",
       "  <tbody>\n",
       "    <tr>\n",
       "      <th>0</th>\n",
       "      <td>NaN</td>\n",
       "      <td>65.04851</td>\n",
       "      <td>59.77827</td>\n",
       "    </tr>\n",
       "    <tr>\n",
       "      <th>1</th>\n",
       "      <td>NaN</td>\n",
       "      <td>63.25094</td>\n",
       "      <td>63.21404</td>\n",
       "    </tr>\n",
       "    <tr>\n",
       "      <th>2</th>\n",
       "      <td>NaN</td>\n",
       "      <td>64.95532</td>\n",
       "      <td>63.34242</td>\n",
       "    </tr>\n",
       "    <tr>\n",
       "      <th>3</th>\n",
       "      <td>NaN</td>\n",
       "      <td>65.75250</td>\n",
       "      <td>62.79238</td>\n",
       "    </tr>\n",
       "    <tr>\n",
       "      <th>4</th>\n",
       "      <td>NaN</td>\n",
       "      <td>61.13723</td>\n",
       "      <td>64.28113</td>\n",
       "    </tr>\n",
       "  </tbody>\n",
       "</table>\n",
       "</div>"
      ],
      "text/plain": [
       "    0         1         2\n",
       "0 NaN  65.04851  59.77827\n",
       "1 NaN  63.25094  63.21404\n",
       "2 NaN  64.95532  63.34242\n",
       "3 NaN  65.75250  62.79238\n",
       "4 NaN  61.13723  64.28113"
      ]
     },
     "execution_count": 3,
     "metadata": {},
     "output_type": "execute_result"
    }
   ],
   "source": [
    "data = pd.read_csv(\"data/GaltonPearsonData.txt\", sep=' ', header=None)\n",
    "data.head()"
   ]
  },
  {
   "cell_type": "code",
   "execution_count": 5,
   "metadata": {},
   "outputs": [
    {
     "data": {
      "image/png": "[encoded data removed]",
      "text/plain": [
       "<Figure size 432x288 with 1 Axes>"
      ]
     },
     "metadata": {
      "needs_background": "light"
     },
     "output_type": "display_data"
    }
   ],
   "source": [
    "# 父亲的身高数据\n",
    "father = data[1]\n",
    "# 孩子的身高数据\n",
    "son = data[2]\n",
    "\n",
    "pyplot.scatter(father, son)\n",
    "\n",
    "pyplot.title('父子身高关系的散点图', fontproperties=cn_font)\n",
    "pyplot.xlabel('父亲的身高(inch)', fontproperties=cn_font)\n",
    "pyplot.ylabel('孩子的身高(inch)', fontproperties=cn_font)\n",
    "pyplot.show()"
   ]
  },
  {
   "cell_type": "markdown",
   "metadata": {},
   "source": [
    "## 由脚印长度估计罪犯的身高\n",
    "\n",
    "### 身高和脚长的关系"
   ]
  },
  {
   "cell_type": "code",
   "execution_count": 6,
   "metadata": {},
   "outputs": [
    {
     "data": {
      "text/html": [
       "<div>\n",
       "<style scoped>\n",
       "    .dataframe tbody tr th:only-of-type {\n",
       "        vertical-align: middle;\n",
       "    }\n",
       "\n",
       "    .dataframe tbody tr th {\n",
       "        vertical-align: top;\n",
       "    }\n",
       "\n",
       "    .dataframe thead th {\n",
       "        text-align: right;\n",
       "    }\n",
       "</style>\n",
       "<table border=\"1\" class=\"dataframe\">\n",
       "  <thead>\n",
       "    <tr style=\"text-align: right;\">\n",
       "      <th></th>\n",
       "      <th>height</th>\n",
       "      <th>footSize</th>\n",
       "      <th>birthday</th>\n",
       "    </tr>\n",
       "  </thead>\n",
       "  <tbody>\n",
       "    <tr>\n",
       "      <th>0</th>\n",
       "      <td>178</td>\n",
       "      <td>26.2</td>\n",
       "      <td>1/7</td>\n",
       "    </tr>\n",
       "    <tr>\n",
       "      <th>1</th>\n",
       "      <td>173</td>\n",
       "      <td>25.5</td>\n",
       "      <td>1/8</td>\n",
       "    </tr>\n",
       "    <tr>\n",
       "      <th>2</th>\n",
       "      <td>175</td>\n",
       "      <td>26.1</td>\n",
       "      <td>1/6</td>\n",
       "    </tr>\n",
       "    <tr>\n",
       "      <th>3</th>\n",
       "      <td>176</td>\n",
       "      <td>25.5</td>\n",
       "      <td>1/9</td>\n",
       "    </tr>\n",
       "    <tr>\n",
       "      <th>4</th>\n",
       "      <td>178</td>\n",
       "      <td>26.5</td>\n",
       "      <td>1/11</td>\n",
       "    </tr>\n",
       "  </tbody>\n",
       "</table>\n",
       "</div>"
      ],
      "text/plain": [
       "   height  footSize birthday\n",
       "0     178      26.2      1/7\n",
       "1     173      25.5      1/8\n",
       "2     175      26.1      1/6\n",
       "3     176      25.5      1/9\n",
       "4     178      26.5     1/11"
      ]
     },
     "execution_count": 6,
     "metadata": {},
     "output_type": "execute_result"
    }
   ],
   "source": [
    "data = pd.read_csv(\"data/BodyData(2013.1).csv\")\n",
    "data.head()"
   ]
  },
  {
   "cell_type": "code",
   "execution_count": 7,
   "metadata": {},
   "outputs": [
    {
     "data": {
      "image/png": "[encoded data removed]",
      "text/plain": [
       "<Figure size 432x288 with 1 Axes>"
      ]
     },
     "metadata": {
      "needs_background": "light"
     },
     "output_type": "display_data"
    }
   ],
   "source": [
    "# 身高和脚长的散点图\n",
    "pyplot.scatter(data['footSize'], data['height'])\n",
    "\n",
    "pyplot.title('身高和脚长的散点图', fontproperties=cn_font)\n",
    "pyplot.xlabel('脚长(cm)', fontproperties=cn_font)\n",
    "pyplot.ylabel('身高(cm)', fontproperties=cn_font)\n",
    "pyplot.show()"
   ]
  },
  {
   "cell_type": "code",
   "execution_count": 8,
   "metadata": {},
   "outputs": [
    {
     "data": {
      "text/plain": [
       "(array([ 4.,  2., 13., 11., 24., 16.,  9.,  2.,  3.,  1.]),\n",
       " array([0.134066, 0.136488, 0.13891 , 0.141332, 0.143754, 0.146176,\n",
       "        0.148598, 0.15102 , 0.153442, 0.155864, 0.158286]),\n",
       " <a list of 10 Patch objects>)"
      ]
     },
     "execution_count": 8,
     "metadata": {},
     "output_type": "execute_result"
    },
    {
     "data": {
      "image/png": "[encoded data removed]",
      "text/plain": [
       "<Figure size 432x288 with 1 Axes>"
      ]
     },
     "metadata": {
      "needs_background": "light"
     },
     "output_type": "display_data"
    }
   ],
   "source": [
    "# 身高和脚长之比的直方图\n",
    "pyplot.hist(data['footSize'] / data['height'])"
   ]
  },
  {
   "cell_type": "markdown",
   "metadata": {},
   "source": [
    "在刑事侦查中，公安人员收集到罪犯脚印后，往往通过公式\n",
    "$$\n",
    "身高 = 脚印长度 \\times 6.876\n",
    "$$\n",
    "估算罪犯的身高. 此公式是如何推导出来的?\n",
    "\n",
    "分析：设一个人身高为 $X$，脚印长度为 $Y$. 显然，两者之间是有统计关系的，故应作为二维随机变量 $(X,Y)$ 来研究.\n",
    "\n",
    "由于影响人类身高与脚印的随机因素是大量的、相互独立的，且各因素的影响又是微小的、可以叠加的. 故由中心极限定理知 $(X,Y)$ 可以近似看成服从二元正态分布 $N(\\mu_1,\\sigma_1^2,\\mu_2,\\sigma_1^2;\\rho)$，其中参数 $\\mu_1,\\sigma_1^2,\\mu_2,\\sigma_1^2;\\rho$ 因区域、民族、生活习惯的不同而有所变化，但它们都能通过统计方法而获得.\n",
    "\n",
    "现已知罪犯的脚印长度为 $y$，要估计其身高就需计算条件期望 $E(X|Y=y)$，条件密度为\n",
    "$$\n",
    "f_{X|Y}(x|y)=\\frac{f(x,y)}{f_Y(y)}\n",
    "$$\n",
    "这正是正态分布\n",
    "$$\n",
    "N\\left(\\mu_1+\\rho\\frac{\\sigma_1}{\\sigma_2}(y-\\mu_2),\\sigma_1^2(1-\\rho^2)\\right)\n",
    "$$\n",
    "的密度函数，因此\n",
    "$$\n",
    "E(X|Y=y)=\\mu_1+\\rho\\frac{\\sigma_1}{\\sigma_2}(y-\\mu_2)\n",
    "$$\n",
    "如果按中国人的相应参数代入上式，即可得出以脚印长度作自变量的身高近似公式."
   ]
  },
  {
   "cell_type": "markdown",
   "metadata": {},
   "source": [
    "### 练习：美国总统的就职年龄研究"
   ]
  },
  {
   "cell_type": "code",
   "execution_count": null,
   "metadata": {},
   "outputs": [],
   "source": [
    "president_age = pd.read_csv( \"data/AmericanPresidentAge.txt\", sep=' ' )\n",
    "president_age.head()"
   ]
  },
  {
   "cell_type": "markdown",
   "metadata": {},
   "source": [
    "请根据上面的数据回答以下问题\n",
    "\n",
    "1. 数据集的样本均值和样本方差\n",
    "2. 画出直方图\n",
    "3. 这一数据集是近似正态的吗？"
   ]
  },
  {
   "cell_type": "code",
   "execution_count": null,
   "metadata": {},
   "outputs": [],
   "source": [
    "from scipy import mean, var, std\n",
    "\n",
    "# 样本均值\n",
    "mean(president_age[ 'InaugurationAge'])"
   ]
  },
  {
   "cell_type": "markdown",
   "metadata": {},
   "source": [
    "美国总统的平均就职年龄是 54.6 岁。"
   ]
  },
  {
   "cell_type": "code",
   "execution_count": null,
   "metadata": {},
   "outputs": [],
   "source": [
    "# 样本标准差\n",
    "std( president_age[ 'InaugurationAge'] )"
   ]
  },
  {
   "cell_type": "markdown",
   "metadata": {},
   "source": [
    "美国总统的平均就职年龄的平均波动是 6.2 岁。"
   ]
  },
  {
   "cell_type": "code",
   "execution_count": null,
   "metadata": {},
   "outputs": [],
   "source": [
    "# 直方图\n",
    "pyplot.hist( president_age[ 'InaugurationAge'], normed=True )\n",
    "\n",
    "pyplot.title('美国总统的就职年龄的直方图')\n",
    "pyplot.xlabel('年龄')\n",
    "pyplot.ylabel('频率')\n",
    "pyplot.show()"
   ]
  },
  {
   "cell_type": "markdown",
   "metadata": {},
   "source": [
    "### 练习：癌症病人生存期研究\n",
    "\n",
    "下面是患一种称为胶质母细胞瘤的脑肿瘤病人的生存期数据 (单位：月)"
   ]
  },
  {
   "cell_type": "code",
   "execution_count": null,
   "metadata": {},
   "outputs": [],
   "source": [
    "tumor_data = [6, 5, 37, 10, 22, 9, 2, 16, 3, 3, 11, 9, 5, 14, 11, 3, 1, 4, 6, 2, 7, 3, 7, 5, 4, 8, 2, 7, 13, 16, 15, 9, 4, 4, 2, 3, 9, 5, 11, 3, 7, 5, 9, 3, 8, 9, 4, 10, 3, 2, 7, 6, 9, 3, 5, 4, 6, 4, 14, 3, 12, 6, 8, 12, 7]"
   ]
  },
  {
   "cell_type": "markdown",
   "metadata": {},
   "source": [
    "试回答以下问题\n",
    "\n",
    "1. 制作频数表和频数图\n",
    "2. 制作频率表和频率图\n",
    "3. 这个数据集近似对称吗"
   ]
  },
  {
   "cell_type": "code",
   "execution_count": null,
   "metadata": {},
   "outputs": [],
   "source": [
    "import pandas as pd\n",
    "\n",
    "# 频数表\n",
    "fr = pd.value_counts( tumor_data )\n",
    "freqTable = pd.DataFrame( {'SavePeriod': fr.index, 'Freq': fr.values}, columns=['SavePeriod', 'Freq'] )\n",
    "\n",
    "freqTable.sort_values( 'SavePeriod' )\n",
    "\n",
    "pyplot.bar( freqTable['SavePeriod'], freqTable['Freq'], align='center')\n",
    "\n",
    "pyplot.xticks( freqTable['SavePeriod'] )\n",
    "pyplot.xlabel( '生存期' )\n",
    "pyplot.ylabel( '频数' )\n",
    "pyplot.title( '癌症病人生存期频数图' )\n",
    "\n",
    "pyplot.show()\n",
    "\n",
    "# 直方图\n",
    "pyplot.hist( tumor_data, bins=20, normed=True )\n",
    "\n",
    "\"癌症病人生存期直方图\" \n",
    "\"生存期(月)\"\n",
    "\"比例\""
   ]
  },
  {
   "cell_type": "markdown",
   "metadata": {},
   "source": [
    "### 练习: 智商和收入的关系"
   ]
  },
  {
   "cell_type": "code",
   "execution_count": null,
   "metadata": {},
   "outputs": [],
   "source": [
    "IQ.salary <- read.table(\"data\\\\IQSalary.txt\", header=TRUE, sep=\" \")\n",
    "\n",
    "attach(IQ.salary)\n",
    "\n",
    "IQ.salary <- IQ.salary[order(ID), ]   # 按 ID 的大小对 data.frame 排序\n",
    "\n",
    "CairoPDF(\"figure\\\\IQSalaryScatterFigure.pdf\", width=8, height=4)\n",
    "par(mar=c(3, 3, 1, 1))\n",
    "plot(IQ, Salary, type=\"p\", col=\"blue\", lwd=2, main=\"\", xlab=\"\", ylab=\"\", cex.main=2, cex.lab=2, cex.axis=2, family=\"youyuan\")\n",
    "dev.off()\n",
    "\n",
    "\n",
    "CairoPDF(\"figure\\\\IQSalaryScatterMeanFigure.pdf\", width=8, height=4)\n",
    "par(mar=c(3, 3, 1, 1))\n",
    "plot(IQ, Salary, type=\"p\", col=\"blue\", lwd=2, main=\"\", xlab=\"\", ylab=\"\", cex.main=2, cex.lab=2, cex.axis=2, family=\"youyuan\")\n",
    "abline(v=mean(IQ), col=\"red\", lwd=2)\n",
    "abline(h=mean(Salary), col=\"red\", lwd=2)\n",
    "dev.off()\n",
    "\n",
    "detach(IQ.salary)"
   ]
  }
 ],
 "metadata": {
  "kernelspec": {
   "display_name": "Python 3",
   "language": "python",
   "name": "python3"
  },
  "language_info": {
   "codemirror_mode": {
    "name": "ipython",
    "version": 3
   },
   "file_extension": ".py",
   "mimetype": "text/x-python",
   "name": "python",
   "nbconvert_exporter": "python",
   "pygments_lexer": "ipython3",
   "version": "3.7.2"
  }
 },
 "nbformat": 4,
 "nbformat_minor": 1
}
